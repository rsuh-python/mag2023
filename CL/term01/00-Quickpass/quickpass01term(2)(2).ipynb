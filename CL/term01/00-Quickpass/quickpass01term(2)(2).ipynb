{
  "cells": [
    {
      "cell_type": "markdown",
      "id": "51ced0b8-29d2-42b8-af9b-f265c5e2fde3",
      "metadata": {
        "id": "51ced0b8-29d2-42b8-af9b-f265c5e2fde3"
      },
      "source": [
        "Задания для сдачи первого семестра экстерном.\n",
        "\n",
        "Условия:\n",
        "\n",
        "- За семестр выставляется (в процентах) количество баллов за решенные правильно задачи. Если не указано иное, за одну задачу - один балл.\n",
        "- Сдавать через систему ревью на гитхабе, присланные по почте тетрадки проверять не буду (естественно).  "
      ]
    },
    {
      "cell_type": "markdown",
      "id": "0f7c8bff-505f-47a8-b374-4dd7919bca22",
      "metadata": {
        "id": "0f7c8bff-505f-47a8-b374-4dd7919bca22"
      },
      "source": [
        "### Часть 1. Basics"
      ]
    },
    {
      "cell_type": "markdown",
      "id": "78a9819c-c196-4aed-bb48-f796bc1fe6a4",
      "metadata": {
        "id": "78a9819c-c196-4aed-bb48-f796bc1fe6a4"
      },
      "source": [
        "#### 1.\n",
        "\n",
        "На вход программе даётся число X и список чисел. Удалите из списка все вхождения элемента X. Программа должна работать за линейное время. Программа не должна использовать дополнительную память. Функция filter запрещена."
      ]
    },
    {
      "cell_type": "code",
      "execution_count": null,
      "id": "403adf1d-0331-49e3-921b-3d693b83011a",
      "metadata": {
        "colab": {
          "base_uri": "https://localhost:8080/"
        },
        "id": "403adf1d-0331-49e3-921b-3d693b83011a",
        "outputId": "4a2f8344-6be2-4631-e224-b2478273e43b"
      },
      "outputs": [
        {
          "output_type": "stream",
          "name": "stdout",
          "text": [
            "[3, 2, 2, 2, 1, 14, 15, 5, 6, 5]\n"
          ]
        }
      ],
      "source": [
        "# your code here\n",
        "\n",
        "x = 7\n",
        "numbers = [3, 2, 2, 2, 1, 14, 15, 7, 7, 5, 7, 6, 5]\n",
        "i = 0\n",
        "\n",
        "while  i < len(numbers):\n",
        "  if numbers[i] == x:\n",
        "    del numbers[i]\n",
        "    i = 0\n",
        "  i+=1\n",
        "print (numbers)"
      ]
    },
    {
      "cell_type": "markdown",
      "id": "930cb5bb-823b-4771-9cbe-bf35a2f0dee1",
      "metadata": {
        "id": "930cb5bb-823b-4771-9cbe-bf35a2f0dee1"
      },
      "source": [
        "#### 2.\n",
        "\n",
        "Eсть список со вложенными списками (глубина вложенности может быть какая угодно: это может быть список списков списков...). Напишите функцию, которая будет рекурсивно обходить все элементы в этих списках и посчитает, сколько всего встретилось уникальных элементов. Считаем, что эти элементы - целые числа."
      ]
    },
    {
      "cell_type": "code",
      "execution_count": null,
      "id": "19c3c54c-1244-49a5-8e8d-26e07b4453d3",
      "metadata": {
        "id": "19c3c54c-1244-49a5-8e8d-26e07b4453d3",
        "colab": {
          "base_uri": "https://localhost:8080/"
        },
        "outputId": "a28a3428-6dda-4162-9f6b-1df63d2eb1a8"
      },
      "outputs": [
        {
          "output_type": "stream",
          "name": "stdout",
          "text": [
            "[1, 2, 333, 4, 8, 8, 8, 9, 333]\n",
            "Unique:  6\n"
          ]
        }
      ],
      "source": [
        "lst000 = [[], [[[1,2, 333]]], 4, [[[[[8, 8, 8, [9]]]]]], 333]\n",
        "types = []\n",
        "\n",
        "def flatten(test_list):\n",
        "    if isinstance(test_list, list):\n",
        "        if len(test_list) == 0:\n",
        "            return []\n",
        "        first, rest = test_list[0], test_list[1:]\n",
        "        return flatten(first) + flatten(rest)\n",
        "    else:\n",
        "        return [test_list]\n",
        "\n",
        "types = flatten (lst000)\n",
        "\n",
        "print (types)\n",
        "print ('Unique: ', len({*types}))"
      ]
    },
    {
      "cell_type": "markdown",
      "id": "26cf84dd-ef41-434b-abde-43a52f18f95e",
      "metadata": {
        "id": "26cf84dd-ef41-434b-abde-43a52f18f95e"
      },
      "source": [
        "#### 3.\n",
        "\n",
        "Дан список с элементами разных типов (потенциально любых). Напишите программу, которая возвращает словарь, в котором ключами являются типы данных (их названия в виде строк), а значениями - количества элементов такого типа в исходном списке."
      ]
    },
    {
      "cell_type": "code",
      "execution_count": null,
      "id": "dc29c7ca-c3c5-4e0d-aa72-fab60b0dc798",
      "metadata": {
        "id": "dc29c7ca-c3c5-4e0d-aa72-fab60b0dc798",
        "colab": {
          "base_uri": "https://localhost:8080/"
        },
        "outputId": "0ceebc4e-0b88-4f44-fc0b-7bf09d29d5a1"
      },
      "outputs": [
        {
          "output_type": "stream",
          "name": "stdout",
          "text": [
            "{'str': 2, 'int': 4, 'tuple': 1, 'float': 1, 'dict': 1, 'function': 1}\n"
          ]
        }
      ],
      "source": [
        "lst_1 = ['good', 4, ('foo', 'bar'), 'sooooq', 6.4, -1, {}, lambda x: x + 1, 16, 24]\n",
        "lst_11 = [None] * len(lst_1)\n",
        "i = 0\n",
        "\n",
        "while i < len(lst_1):\n",
        "  lst_11[i] = type (lst_1[i]).__name__\n",
        "  i+=1\n",
        "\n",
        "dct_11 = {i:lst_11.count(i) for i in lst_11}\n",
        "print (dct_11)"
      ]
    },
    {
      "cell_type": "markdown",
      "id": "7a9f9623-bc58-4f10-840d-c043d2a1dcea",
      "metadata": {
        "id": "7a9f9623-bc58-4f10-840d-c043d2a1dcea"
      },
      "source": [
        "#### 4.\n",
        "\n",
        "Даны два списка чисел, с повторами элементов внутри них. Составьте общий список из этих двух списков. Каждый элемент должен присутствовать наименьшее ненулевое число раз, исходя из его присутствия в исходных списках. Т.е. если число \"5\" присутствует в первом списке 3 раза, а во втором списке - 5 раз, значит, в конечном списке оно должно присутствовать 3 раза."
      ]
    },
    {
      "cell_type": "code",
      "execution_count": null,
      "id": "9649df52-5f08-4ea5-95ee-b7dc936b567e",
      "metadata": {
        "id": "9649df52-5f08-4ea5-95ee-b7dc936b567e",
        "colab": {
          "base_uri": "https://localhost:8080/"
        },
        "outputId": "7623026e-431d-4a42-c6d5-4e88f68eb2a6"
      },
      "outputs": [
        {
          "output_type": "stream",
          "name": "stdout",
          "text": [
            "[1, 2, 3, 4, 4, 5, 5, 6, 6, 6, 7]\n"
          ]
        }
      ],
      "source": [
        "lst_2_1 = [1, 2, 2, 2, 3, 5, 5, 5, 5, 5, 6, 6, 6]\n",
        "lst_2_2 = [1, 1, 1, 2, 4, 4, 5, 5, 6, 6, 6, 6, 6, 6, 7]\n",
        "\n",
        "dct_21 = {i:lst_2_1.count(i) for i in lst_2_1}\n",
        "dct_22 = {i:lst_2_2.count(i) for i in lst_2_2}\n",
        "alldict = [dct_21, dct_22]\n",
        "allkey = dict.fromkeys(set().union(*alldict), 1)\n",
        "dct_233 = allkey | dct_22 | dct_21\n",
        "dct_232 = allkey | dct_21 | dct_22\n",
        "\n",
        "dct_23 = {k:min(dct_233[k],dct_232[k]) for k in dct_233.keys() & dct_232}\n",
        "\n",
        "\n",
        "res = list(dct_23.values())\n",
        "\n",
        "res1 = list(set(dct_23.keys()))\n",
        "\n",
        "res2 = []\n",
        "i = 0\n",
        "y = 0\n",
        "\n",
        "while i < len(res):\n",
        "  for y in range (0, res[i]):\n",
        "    res2.append(res1[i])\n",
        "  i+=1\n",
        "\n",
        "print (res2)"
      ]
    },
    {
      "cell_type": "markdown",
      "id": "dddcb083-c93f-4e54-8b49-9aa45f2f37e4",
      "metadata": {
        "id": "dddcb083-c93f-4e54-8b49-9aa45f2f37e4"
      },
      "source": [
        "#### 5.\n",
        "\n",
        "Дан неупорядоченный список чисел. Предполагая, что его элементы - значения масс, найдите индекс списка, наиболее близкий к координате его центра масс.\n",
        "\n",
        "(Гуглить про центр масс не воспрещается)"
      ]
    },
    {
      "cell_type": "code",
      "execution_count": null,
      "id": "339dc1d8-baac-45ee-96ca-c183e91d94a0",
      "metadata": {
        "id": "339dc1d8-baac-45ee-96ca-c183e91d94a0",
        "colab": {
          "base_uri": "https://localhost:8080/"
        },
        "outputId": "77c5d239-87f4-494f-fbd3-c9a0d21f8cad"
      },
      "outputs": [
        {
          "output_type": "stream",
          "name": "stdout",
          "text": [
            "center index between: 4 5\n"
          ]
        }
      ],
      "source": [
        "lst_3 = [10, 20, 5, 50, 150, 10, 25, 100, 70, 30]\n",
        "\n",
        "left = 0\n",
        "right = 0\n",
        "memory = [0, 0]\n",
        "i = 0\n",
        "i1 = 0\n",
        "\n",
        "while i < len(lst_3):\n",
        "  left+=lst_3[i]\n",
        "  right = sum (lst_3[i+1:-1])\n",
        "  if (right == left):\n",
        "    print ('center of mass:', i)\n",
        "    break\n",
        "  elif ((abs (memory[0]-memory[1]) > abs(left-right)) != 1) and (i > 0):\n",
        "    print ('center of mass between:', i-1, i)\n",
        "    break\n",
        "  i+=1\n",
        "  memory[0] = left\n",
        "  memory[1] = right\n",
        "\n",
        "# your code here"
      ]
    },
    {
      "cell_type": "markdown",
      "id": "34b9cec4-99f9-4225-acc8-9bcd5faab41b",
      "metadata": {
        "id": "34b9cec4-99f9-4225-acc8-9bcd5faab41b"
      },
      "source": [
        "### Часть 2. Pandas"
      ]
    },
    {
      "cell_type": "code",
      "execution_count": 73,
      "id": "b9ad191a-8b60-44bf-bb00-c21eb0d54ef6",
      "metadata": {
        "_uuid": "568eb2d31004b87d22e119112ae01a1e75105f1d",
        "id": "b9ad191a-8b60-44bf-bb00-c21eb0d54ef6",
        "colab": {
          "base_uri": "https://localhost:8080/"
        },
        "outputId": "56ad6649-cc65-45a5-dbe9-d8ad8e5c41e9"
      },
      "outputs": [
        {
          "output_type": "stream",
          "name": "stdout",
          "text": [
            "Mounted at /content/gdrive\n"
          ]
        }
      ],
      "source": [
        "import pandas as pd\n",
        "import glob\n",
        "\n",
        "from google.colab import drive\n",
        "drive.mount('/content/gdrive')"
      ]
    },
    {
      "cell_type": "markdown",
      "id": "407ce94b-89e4-452a-b38c-2e91244d2bc0",
      "metadata": {
        "id": "407ce94b-89e4-452a-b38c-2e91244d2bc0"
      },
      "source": [
        "#### Описание данных\n",
        "\n",
        "В папке Data находится информация о студентах. Всего 10 групп студентов. Файлы делятся на две категории:\n",
        "    * Students_info_i - информация о студентах из группы i\n",
        "    * Students_marks_i - оценки студентов из группы i за экзамены"
      ]
    },
    {
      "cell_type": "markdown",
      "id": "bb8f399f-43b3-4e90-8e07-800a299a08dd",
      "metadata": {
        "id": "bb8f399f-43b3-4e90-8e07-800a299a08dd"
      },
      "source": [
        "#### Задание 1. Соберите всю информацию о студентах в одну таблицу df. В получившейся таблице должна быть информация и оценки всех студентов из всех групп. Напечатайте несколько строк таблицы для демонстрации результата.¶"
      ]
    },
    {
      "cell_type": "code",
      "execution_count": 104,
      "id": "93f9dee3-d044-4e5b-9843-f0fabbf89f75",
      "metadata": {
        "id": "93f9dee3-d044-4e5b-9843-f0fabbf89f75"
      },
      "outputs": [],
      "source": [
        "\n",
        "csv1 = pd.concat([pd.read_csv(file) for file in glob.glob(f\"/content/gdrive/My Drive/data_stud/Students_info_*.csv\")])\n",
        "csv2 = pd.concat([pd.read_csv(file) for file in glob.glob(f\"/content/gdrive/My Drive/data_stud/Students_marks_*.csv\")])                # use your path\n",
        "#all_files1 = glob.glob(f\"/content/gdrive/My Drive/data_stud/Students_info_*.csv\")\n",
        "\n",
        "\n",
        "csv2.drop('index', axis=1, inplace=True)\n",
        "\n",
        "df = pd.concat([csv1, csv2], axis=1)"
      ]
    },
    {
      "cell_type": "markdown",
      "id": "ea885853-3479-45f0-9e00-8b2f50f0269e",
      "metadata": {
        "_uuid": "8524af4cbd2f7b7810e8a3095a74c9fe1df7eafa",
        "id": "ea885853-3479-45f0-9e00-8b2f50f0269e"
      },
      "source": [
        "#### Задание 2. Удалите столбец index у полученной таблицы. Напечатайте первые 10 строк таблицы."
      ]
    },
    {
      "cell_type": "code",
      "execution_count": 105,
      "id": "3c7b50a1-3e33-45fc-9624-6e6792739b13",
      "metadata": {
        "_uuid": "fe62eee87b9b94ab923f57b55eaf0554612aa9e9",
        "id": "3c7b50a1-3e33-45fc-9624-6e6792739b13",
        "colab": {
          "base_uri": "https://localhost:8080/"
        },
        "outputId": "b90241f5-7200-4f57-834c-9291345e9875"
      },
      "outputs": [
        {
          "output_type": "stream",
          "name": "stdout",
          "text": [
            "   gender race/ethnicity parental level of education         lunch  \\\n",
            "0    male        group B                some college      standard   \n",
            "1    male        group D           bachelor's degree      standard   \n",
            "2  female        group D          associate's degree      standard   \n",
            "3    male        group B                 high school      standard   \n",
            "4    male        group C                some college      standard   \n",
            "5  female        group C                some college      standard   \n",
            "6  female        group D             master's degree      standard   \n",
            "7    male        group E          associate's degree      standard   \n",
            "8  female        group B          associate's degree  free/reduced   \n",
            "9  female        group B            some high school      standard   \n",
            "\n",
            "  test preparation course   group  math score  reading score  writing score  \n",
            "0                    none  group2          72             72             74  \n",
            "1               completed  group2          69             90             88  \n",
            "2                    none  group2          90             95             93  \n",
            "3               completed  group2          47             57             44  \n",
            "4               completed  group2          76             78             75  \n",
            "5                    none  group2          71             83             78  \n",
            "6                    none  group2          88             95             92  \n",
            "7               completed  group2          40             43             39  \n",
            "8                    none  group2          64             64             67  \n",
            "9                    none  group2          38             60             50  \n"
          ]
        }
      ],
      "source": [
        "df.drop('index', axis=1, inplace=True)\n",
        "\n",
        "print (df.head(10))"
      ]
    },
    {
      "cell_type": "markdown",
      "id": "ad5abb02-28d4-47ad-92d0-f5e323c23520",
      "metadata": {
        "_uuid": "5fcd622942b7ecfc318934c6a245d3bb3bf01e84",
        "id": "ad5abb02-28d4-47ad-92d0-f5e323c23520"
      },
      "source": [
        "#### Задание 3. Выведите на экран размеры полученной таблицы"
      ]
    },
    {
      "cell_type": "code",
      "execution_count": 106,
      "id": "df95ecad-4180-4dec-bbbf-e4ab90f568e8",
      "metadata": {
        "_uuid": "16281cd7b4e941ebed8ca2e1b42f62f55d838684",
        "id": "df95ecad-4180-4dec-bbbf-e4ab90f568e8",
        "colab": {
          "base_uri": "https://localhost:8080/"
        },
        "outputId": "e75ca895-4332-4321-c0a1-85222d3bcd65"
      },
      "outputs": [
        {
          "output_type": "stream",
          "name": "stdout",
          "text": [
            "9000\n"
          ]
        }
      ],
      "source": [
        "print (df.size)"
      ]
    },
    {
      "cell_type": "markdown",
      "id": "5f59bec0-7425-46d6-86b2-9074d5a3f467",
      "metadata": {
        "_uuid": "fe8e3d58d29ca25dbbcf001392377643e6ff9a36",
        "id": "5f59bec0-7425-46d6-86b2-9074d5a3f467"
      },
      "source": [
        "#### Задание 4. Выведите на экран статистические характеристики числовых столбцов таблицы (минимум, максимум, среднее значение, стандартное отклонение)"
      ]
    },
    {
      "cell_type": "code",
      "execution_count": 108,
      "id": "f9beeaca-395c-4905-96b1-044db29657ef",
      "metadata": {
        "_uuid": "e3d4bb80d2c4251fe517c24fcf08c5ff2d67b8aa",
        "id": "f9beeaca-395c-4905-96b1-044db29657ef",
        "colab": {
          "base_uri": "https://localhost:8080/"
        },
        "outputId": "927841e0-25fb-408b-d0e6-024b3e0c0fff"
      },
      "outputs": [
        {
          "output_type": "stream",
          "name": "stdout",
          "text": [
            "Stats (min, max, avg, stdev) for math score: 0   100   66.089   15.163080096009452\n",
            "Stats (min, max, avg, stdev) for reading score: 17   100   69.169   14.600191937252216\n",
            "Stats (min, max, avg, stdev) for writing score: 10   100   68.054   15.19565701086965\n"
          ]
        }
      ],
      "source": [
        "print ('Stats (min, max, avg, stdev) for math score:', df['math score'].min (), ' ', df['math score'].max (), ' ', df['math score'].mean (), ' ', df['math score'].std ())\n",
        "print ('Stats (min, max, avg, stdev) for reading score:', df['reading score'].min (), ' ', df['reading score'].max (), ' ', df['reading score'].mean (), ' ', df['reading score'].std ())\n",
        "print ('Stats (min, max, avg, stdev) for writing score:', df['writing score'].min (), ' ', df['writing score'].max (), ' ', df['writing score'].mean (), ' ', df['writing score'].std ())"
      ]
    },
    {
      "cell_type": "markdown",
      "id": "6c62415c-6b63-443f-b498-a2872ed696cb",
      "metadata": {
        "_uuid": "b26b7de83485ecb3b8a0a7865a596e24527c7b2f",
        "id": "6c62415c-6b63-443f-b498-a2872ed696cb"
      },
      "source": [
        "#### Задание 5. Проверьте, есть ли в таблице пропущенные значения"
      ]
    },
    {
      "cell_type": "code",
      "execution_count": 109,
      "id": "77ecd703-b945-49b1-8feb-dc1ef5a4c811",
      "metadata": {
        "_uuid": "4eac3f8f83d07c6e58ad1576fe0e773f37034a2f",
        "id": "77ecd703-b945-49b1-8feb-dc1ef5a4c811",
        "colab": {
          "base_uri": "https://localhost:8080/"
        },
        "outputId": "166910a1-b4e0-4706-9a36-cf92f360a0db"
      },
      "outputs": [
        {
          "output_type": "stream",
          "name": "stdout",
          "text": [
            "gender                         0\n",
            "race/ethnicity                 0\n",
            "parental level of education    0\n",
            "lunch                          0\n",
            "test preparation course        0\n",
            "group                          0\n",
            "math score                     0\n",
            "reading score                  0\n",
            "writing score                  0\n",
            "dtype: int64\n"
          ]
        }
      ],
      "source": [
        "print (df.isna().sum()) #смотрим сколько пропущенных значений для каждого столбца"
      ]
    },
    {
      "cell_type": "markdown",
      "id": "895e2c14-1d41-4335-92fb-e4fd555af25d",
      "metadata": {
        "id": "895e2c14-1d41-4335-92fb-e4fd555af25d"
      },
      "source": [
        "#### Задание 6. Выведите на экран средние баллы студентов по каждому предмету (math, reading, writing)"
      ]
    },
    {
      "cell_type": "code",
      "execution_count": 110,
      "id": "63b69a99-86c8-4257-919e-149cf8854e03",
      "metadata": {
        "id": "63b69a99-86c8-4257-919e-149cf8854e03",
        "colab": {
          "base_uri": "https://localhost:8080/"
        },
        "outputId": "08994031-6609-4a67-ea84-952849a94ba1"
      },
      "outputs": [
        {
          "output_type": "stream",
          "name": "stdout",
          "text": [
            "0     72.0\n",
            "1     79.5\n",
            "2     92.5\n",
            "3     52.0\n",
            "4     77.0\n",
            "      ... \n",
            "95    64.5\n",
            "96    43.5\n",
            "97    72.5\n",
            "98    43.0\n",
            "99    88.5\n",
            "Name: mean, Length: 1000, dtype: float64\n"
          ]
        }
      ],
      "source": [
        "df['mean'] = df.iloc[:, 6:8].mean(axis=1)\n",
        "print (df['mean'])"
      ]
    },
    {
      "cell_type": "markdown",
      "id": "652d44f0-a9c7-4bc2-8d72-a5df28537a25",
      "metadata": {
        "id": "652d44f0-a9c7-4bc2-8d72-a5df28537a25"
      },
      "source": [
        "#### Задание 7. Как зависят оценки от того, проходил ли студент курс для подготовки к сдаче экзамена (test preparation course)? Выведите на экран для каждого предмета в отдельности средний балл студентов, проходивших курс для подготовки к экзамену и не проходивших курс."
      ]
    },
    {
      "cell_type": "code",
      "execution_count": 111,
      "id": "06bf32b2-a836-49bf-89ab-c80ccfcf3f72",
      "metadata": {
        "id": "06bf32b2-a836-49bf-89ab-c80ccfcf3f72",
        "colab": {
          "base_uri": "https://localhost:8080/"
        },
        "outputId": "5c9f5f93-6569-4238-a9ac-cd5ad98b64c4"
      },
      "outputs": [
        {
          "output_type": "stream",
          "name": "stdout",
          "text": [
            "Completed:  math score       65.645251\n",
            "reading score    68.337989\n",
            "writing score    67.351955\n",
            "mean             66.991620\n",
            "dtype: float64\n",
            "None:  math score       66.336449\n",
            "reading score    69.632399\n",
            "writing score    68.445483\n",
            "mean             67.984424\n",
            "dtype: float64\n"
          ]
        },
        {
          "output_type": "stream",
          "name": "stderr",
          "text": [
            "<ipython-input-111-586822e89a41>:2: FutureWarning: The default value of numeric_only in DataFrame.mean is deprecated. In a future version, it will default to False. In addition, specifying 'numeric_only=None' is deprecated. Select only valid columns or specify the value of numeric_only to silence this warning.\n",
            "  print ('Completed: ', g.get_group ('completed').mean ())\n",
            "<ipython-input-111-586822e89a41>:5: FutureWarning: The default value of numeric_only in DataFrame.mean is deprecated. In a future version, it will default to False. In addition, specifying 'numeric_only=None' is deprecated. Select only valid columns or specify the value of numeric_only to silence this warning.\n",
            "  print ('None: ', g.get_group ('none').mean ())\n"
          ]
        }
      ],
      "source": [
        "g = df.groupby ('test preparation course')\n",
        "print ('Completed: ', g.get_group ('completed').mean ())\n",
        "\n",
        "\n",
        "print ('None: ', g.get_group ('none').mean ())"
      ]
    },
    {
      "cell_type": "markdown",
      "id": "f41291e7-c5e3-4264-a2b8-4424e1f8c094",
      "metadata": {
        "id": "f41291e7-c5e3-4264-a2b8-4424e1f8c094"
      },
      "source": [
        "#### Задание 8. Выведите на экран все различные значения из столбца lunch."
      ]
    },
    {
      "cell_type": "code",
      "execution_count": 112,
      "id": "d5552545-deda-4734-9132-b38b3227866a",
      "metadata": {
        "id": "d5552545-deda-4734-9132-b38b3227866a",
        "colab": {
          "base_uri": "https://localhost:8080/"
        },
        "outputId": "7736ad53-9cff-432e-a261-5131580ac7a6"
      },
      "outputs": [
        {
          "output_type": "stream",
          "name": "stdout",
          "text": [
            "['standard' 'free/reduced']\n"
          ]
        }
      ],
      "source": [
        "print(df['lunch'].unique())"
      ]
    },
    {
      "cell_type": "markdown",
      "id": "bc0b446c-eab1-4e65-aa07-f648d31d6c77",
      "metadata": {
        "id": "bc0b446c-eab1-4e65-aa07-f648d31d6c77"
      },
      "source": [
        "#### Задание 9. Переименуйте колонку \"parental level of education\" в \"education\", а \"test preparation course\" в \"test preparation\" с помощью метода pandas rename\n",
        "https://pandas.pydata.org/pandas-docs/stable/reference/api/pandas.DataFrame.rename.html"
      ]
    },
    {
      "cell_type": "code",
      "execution_count": 113,
      "id": "28d2860b-90be-48be-a6a0-68bbf7da5778",
      "metadata": {
        "id": "28d2860b-90be-48be-a6a0-68bbf7da5778",
        "colab": {
          "base_uri": "https://localhost:8080/",
          "height": 424
        },
        "outputId": "3269c09f-3f39-4055-d67d-0012c05cfff4"
      },
      "outputs": [
        {
          "output_type": "execute_result",
          "data": {
            "text/plain": [
              "    gender race/ethnicity           education         lunch       test  \\\n",
              "0     male        group B        some college      standard       none   \n",
              "1     male        group D   bachelor's degree      standard  completed   \n",
              "2   female        group D  associate's degree      standard       none   \n",
              "3     male        group B         high school      standard  completed   \n",
              "4     male        group C        some college      standard  completed   \n",
              "..     ...            ...                 ...           ...        ...   \n",
              "95    male        group A         high school  free/reduced       none   \n",
              "96  female        group B         high school  free/reduced       none   \n",
              "97  female        group C  associate's degree      standard       none   \n",
              "98    male        group B    some high school      standard       none   \n",
              "99    male        group D    some high school      standard       none   \n",
              "\n",
              "     group  math score  reading score  writing score  mean  \n",
              "0   group2          72             72             74  72.0  \n",
              "1   group2          69             90             88  79.5  \n",
              "2   group2          90             95             93  92.5  \n",
              "3   group2          47             57             44  52.0  \n",
              "4   group2          76             78             75  77.0  \n",
              "..     ...         ...            ...            ...   ...  \n",
              "95  group4          67             62             60  64.5  \n",
              "96  group4          46             41             43  43.5  \n",
              "97  group4          71             74             68  72.5  \n",
              "98  group4          40             46             50  43.0  \n",
              "99  group4          90             87             75  88.5  \n",
              "\n",
              "[1000 rows x 10 columns]"
            ],
            "text/html": [
              "\n",
              "  <div id=\"df-a1541d58-aae1-48c0-9a54-89c701c7dc1b\" class=\"colab-df-container\">\n",
              "    <div>\n",
              "<style scoped>\n",
              "    .dataframe tbody tr th:only-of-type {\n",
              "        vertical-align: middle;\n",
              "    }\n",
              "\n",
              "    .dataframe tbody tr th {\n",
              "        vertical-align: top;\n",
              "    }\n",
              "\n",
              "    .dataframe thead th {\n",
              "        text-align: right;\n",
              "    }\n",
              "</style>\n",
              "<table border=\"1\" class=\"dataframe\">\n",
              "  <thead>\n",
              "    <tr style=\"text-align: right;\">\n",
              "      <th></th>\n",
              "      <th>gender</th>\n",
              "      <th>race/ethnicity</th>\n",
              "      <th>education</th>\n",
              "      <th>lunch</th>\n",
              "      <th>test</th>\n",
              "      <th>group</th>\n",
              "      <th>math score</th>\n",
              "      <th>reading score</th>\n",
              "      <th>writing score</th>\n",
              "      <th>mean</th>\n",
              "    </tr>\n",
              "  </thead>\n",
              "  <tbody>\n",
              "    <tr>\n",
              "      <th>0</th>\n",
              "      <td>male</td>\n",
              "      <td>group B</td>\n",
              "      <td>some college</td>\n",
              "      <td>standard</td>\n",
              "      <td>none</td>\n",
              "      <td>group2</td>\n",
              "      <td>72</td>\n",
              "      <td>72</td>\n",
              "      <td>74</td>\n",
              "      <td>72.0</td>\n",
              "    </tr>\n",
              "    <tr>\n",
              "      <th>1</th>\n",
              "      <td>male</td>\n",
              "      <td>group D</td>\n",
              "      <td>bachelor's degree</td>\n",
              "      <td>standard</td>\n",
              "      <td>completed</td>\n",
              "      <td>group2</td>\n",
              "      <td>69</td>\n",
              "      <td>90</td>\n",
              "      <td>88</td>\n",
              "      <td>79.5</td>\n",
              "    </tr>\n",
              "    <tr>\n",
              "      <th>2</th>\n",
              "      <td>female</td>\n",
              "      <td>group D</td>\n",
              "      <td>associate's degree</td>\n",
              "      <td>standard</td>\n",
              "      <td>none</td>\n",
              "      <td>group2</td>\n",
              "      <td>90</td>\n",
              "      <td>95</td>\n",
              "      <td>93</td>\n",
              "      <td>92.5</td>\n",
              "    </tr>\n",
              "    <tr>\n",
              "      <th>3</th>\n",
              "      <td>male</td>\n",
              "      <td>group B</td>\n",
              "      <td>high school</td>\n",
              "      <td>standard</td>\n",
              "      <td>completed</td>\n",
              "      <td>group2</td>\n",
              "      <td>47</td>\n",
              "      <td>57</td>\n",
              "      <td>44</td>\n",
              "      <td>52.0</td>\n",
              "    </tr>\n",
              "    <tr>\n",
              "      <th>4</th>\n",
              "      <td>male</td>\n",
              "      <td>group C</td>\n",
              "      <td>some college</td>\n",
              "      <td>standard</td>\n",
              "      <td>completed</td>\n",
              "      <td>group2</td>\n",
              "      <td>76</td>\n",
              "      <td>78</td>\n",
              "      <td>75</td>\n",
              "      <td>77.0</td>\n",
              "    </tr>\n",
              "    <tr>\n",
              "      <th>...</th>\n",
              "      <td>...</td>\n",
              "      <td>...</td>\n",
              "      <td>...</td>\n",
              "      <td>...</td>\n",
              "      <td>...</td>\n",
              "      <td>...</td>\n",
              "      <td>...</td>\n",
              "      <td>...</td>\n",
              "      <td>...</td>\n",
              "      <td>...</td>\n",
              "    </tr>\n",
              "    <tr>\n",
              "      <th>95</th>\n",
              "      <td>male</td>\n",
              "      <td>group A</td>\n",
              "      <td>high school</td>\n",
              "      <td>free/reduced</td>\n",
              "      <td>none</td>\n",
              "      <td>group4</td>\n",
              "      <td>67</td>\n",
              "      <td>62</td>\n",
              "      <td>60</td>\n",
              "      <td>64.5</td>\n",
              "    </tr>\n",
              "    <tr>\n",
              "      <th>96</th>\n",
              "      <td>female</td>\n",
              "      <td>group B</td>\n",
              "      <td>high school</td>\n",
              "      <td>free/reduced</td>\n",
              "      <td>none</td>\n",
              "      <td>group4</td>\n",
              "      <td>46</td>\n",
              "      <td>41</td>\n",
              "      <td>43</td>\n",
              "      <td>43.5</td>\n",
              "    </tr>\n",
              "    <tr>\n",
              "      <th>97</th>\n",
              "      <td>female</td>\n",
              "      <td>group C</td>\n",
              "      <td>associate's degree</td>\n",
              "      <td>standard</td>\n",
              "      <td>none</td>\n",
              "      <td>group4</td>\n",
              "      <td>71</td>\n",
              "      <td>74</td>\n",
              "      <td>68</td>\n",
              "      <td>72.5</td>\n",
              "    </tr>\n",
              "    <tr>\n",
              "      <th>98</th>\n",
              "      <td>male</td>\n",
              "      <td>group B</td>\n",
              "      <td>some high school</td>\n",
              "      <td>standard</td>\n",
              "      <td>none</td>\n",
              "      <td>group4</td>\n",
              "      <td>40</td>\n",
              "      <td>46</td>\n",
              "      <td>50</td>\n",
              "      <td>43.0</td>\n",
              "    </tr>\n",
              "    <tr>\n",
              "      <th>99</th>\n",
              "      <td>male</td>\n",
              "      <td>group D</td>\n",
              "      <td>some high school</td>\n",
              "      <td>standard</td>\n",
              "      <td>none</td>\n",
              "      <td>group4</td>\n",
              "      <td>90</td>\n",
              "      <td>87</td>\n",
              "      <td>75</td>\n",
              "      <td>88.5</td>\n",
              "    </tr>\n",
              "  </tbody>\n",
              "</table>\n",
              "<p>1000 rows × 10 columns</p>\n",
              "</div>\n",
              "    <div class=\"colab-df-buttons\">\n",
              "\n",
              "  <div class=\"colab-df-container\">\n",
              "    <button class=\"colab-df-convert\" onclick=\"convertToInteractive('df-a1541d58-aae1-48c0-9a54-89c701c7dc1b')\"\n",
              "            title=\"Convert this dataframe to an interactive table.\"\n",
              "            style=\"display:none;\">\n",
              "\n",
              "  <svg xmlns=\"http://www.w3.org/2000/svg\" height=\"24px\" viewBox=\"0 -960 960 960\">\n",
              "    <path d=\"M120-120v-720h720v720H120Zm60-500h600v-160H180v160Zm220 220h160v-160H400v160Zm0 220h160v-160H400v160ZM180-400h160v-160H180v160Zm440 0h160v-160H620v160ZM180-180h160v-160H180v160Zm440 0h160v-160H620v160Z\"/>\n",
              "  </svg>\n",
              "    </button>\n",
              "\n",
              "  <style>\n",
              "    .colab-df-container {\n",
              "      display:flex;\n",
              "      gap: 12px;\n",
              "    }\n",
              "\n",
              "    .colab-df-convert {\n",
              "      background-color: #E8F0FE;\n",
              "      border: none;\n",
              "      border-radius: 50%;\n",
              "      cursor: pointer;\n",
              "      display: none;\n",
              "      fill: #1967D2;\n",
              "      height: 32px;\n",
              "      padding: 0 0 0 0;\n",
              "      width: 32px;\n",
              "    }\n",
              "\n",
              "    .colab-df-convert:hover {\n",
              "      background-color: #E2EBFA;\n",
              "      box-shadow: 0px 1px 2px rgba(60, 64, 67, 0.3), 0px 1px 3px 1px rgba(60, 64, 67, 0.15);\n",
              "      fill: #174EA6;\n",
              "    }\n",
              "\n",
              "    .colab-df-buttons div {\n",
              "      margin-bottom: 4px;\n",
              "    }\n",
              "\n",
              "    [theme=dark] .colab-df-convert {\n",
              "      background-color: #3B4455;\n",
              "      fill: #D2E3FC;\n",
              "    }\n",
              "\n",
              "    [theme=dark] .colab-df-convert:hover {\n",
              "      background-color: #434B5C;\n",
              "      box-shadow: 0px 1px 3px 1px rgba(0, 0, 0, 0.15);\n",
              "      filter: drop-shadow(0px 1px 2px rgba(0, 0, 0, 0.3));\n",
              "      fill: #FFFFFF;\n",
              "    }\n",
              "  </style>\n",
              "\n",
              "    <script>\n",
              "      const buttonEl =\n",
              "        document.querySelector('#df-a1541d58-aae1-48c0-9a54-89c701c7dc1b button.colab-df-convert');\n",
              "      buttonEl.style.display =\n",
              "        google.colab.kernel.accessAllowed ? 'block' : 'none';\n",
              "\n",
              "      async function convertToInteractive(key) {\n",
              "        const element = document.querySelector('#df-a1541d58-aae1-48c0-9a54-89c701c7dc1b');\n",
              "        const dataTable =\n",
              "          await google.colab.kernel.invokeFunction('convertToInteractive',\n",
              "                                                    [key], {});\n",
              "        if (!dataTable) return;\n",
              "\n",
              "        const docLinkHtml = 'Like what you see? Visit the ' +\n",
              "          '<a target=\"_blank\" href=https://colab.research.google.com/notebooks/data_table.ipynb>data table notebook</a>'\n",
              "          + ' to learn more about interactive tables.';\n",
              "        element.innerHTML = '';\n",
              "        dataTable['output_type'] = 'display_data';\n",
              "        await google.colab.output.renderOutput(dataTable, element);\n",
              "        const docLink = document.createElement('div');\n",
              "        docLink.innerHTML = docLinkHtml;\n",
              "        element.appendChild(docLink);\n",
              "      }\n",
              "    </script>\n",
              "  </div>\n",
              "\n",
              "\n",
              "<div id=\"df-43dd3cc0-a011-49b5-be2d-a81f76b1bc57\">\n",
              "  <button class=\"colab-df-quickchart\" onclick=\"quickchart('df-43dd3cc0-a011-49b5-be2d-a81f76b1bc57')\"\n",
              "            title=\"Suggest charts\"\n",
              "            style=\"display:none;\">\n",
              "\n",
              "<svg xmlns=\"http://www.w3.org/2000/svg\" height=\"24px\"viewBox=\"0 0 24 24\"\n",
              "     width=\"24px\">\n",
              "    <g>\n",
              "        <path d=\"M19 3H5c-1.1 0-2 .9-2 2v14c0 1.1.9 2 2 2h14c1.1 0 2-.9 2-2V5c0-1.1-.9-2-2-2zM9 17H7v-7h2v7zm4 0h-2V7h2v10zm4 0h-2v-4h2v4z\"/>\n",
              "    </g>\n",
              "</svg>\n",
              "  </button>\n",
              "\n",
              "<style>\n",
              "  .colab-df-quickchart {\n",
              "      --bg-color: #E8F0FE;\n",
              "      --fill-color: #1967D2;\n",
              "      --hover-bg-color: #E2EBFA;\n",
              "      --hover-fill-color: #174EA6;\n",
              "      --disabled-fill-color: #AAA;\n",
              "      --disabled-bg-color: #DDD;\n",
              "  }\n",
              "\n",
              "  [theme=dark] .colab-df-quickchart {\n",
              "      --bg-color: #3B4455;\n",
              "      --fill-color: #D2E3FC;\n",
              "      --hover-bg-color: #434B5C;\n",
              "      --hover-fill-color: #FFFFFF;\n",
              "      --disabled-bg-color: #3B4455;\n",
              "      --disabled-fill-color: #666;\n",
              "  }\n",
              "\n",
              "  .colab-df-quickchart {\n",
              "    background-color: var(--bg-color);\n",
              "    border: none;\n",
              "    border-radius: 50%;\n",
              "    cursor: pointer;\n",
              "    display: none;\n",
              "    fill: var(--fill-color);\n",
              "    height: 32px;\n",
              "    padding: 0;\n",
              "    width: 32px;\n",
              "  }\n",
              "\n",
              "  .colab-df-quickchart:hover {\n",
              "    background-color: var(--hover-bg-color);\n",
              "    box-shadow: 0 1px 2px rgba(60, 64, 67, 0.3), 0 1px 3px 1px rgba(60, 64, 67, 0.15);\n",
              "    fill: var(--button-hover-fill-color);\n",
              "  }\n",
              "\n",
              "  .colab-df-quickchart-complete:disabled,\n",
              "  .colab-df-quickchart-complete:disabled:hover {\n",
              "    background-color: var(--disabled-bg-color);\n",
              "    fill: var(--disabled-fill-color);\n",
              "    box-shadow: none;\n",
              "  }\n",
              "\n",
              "  .colab-df-spinner {\n",
              "    border: 2px solid var(--fill-color);\n",
              "    border-color: transparent;\n",
              "    border-bottom-color: var(--fill-color);\n",
              "    animation:\n",
              "      spin 1s steps(1) infinite;\n",
              "  }\n",
              "\n",
              "  @keyframes spin {\n",
              "    0% {\n",
              "      border-color: transparent;\n",
              "      border-bottom-color: var(--fill-color);\n",
              "      border-left-color: var(--fill-color);\n",
              "    }\n",
              "    20% {\n",
              "      border-color: transparent;\n",
              "      border-left-color: var(--fill-color);\n",
              "      border-top-color: var(--fill-color);\n",
              "    }\n",
              "    30% {\n",
              "      border-color: transparent;\n",
              "      border-left-color: var(--fill-color);\n",
              "      border-top-color: var(--fill-color);\n",
              "      border-right-color: var(--fill-color);\n",
              "    }\n",
              "    40% {\n",
              "      border-color: transparent;\n",
              "      border-right-color: var(--fill-color);\n",
              "      border-top-color: var(--fill-color);\n",
              "    }\n",
              "    60% {\n",
              "      border-color: transparent;\n",
              "      border-right-color: var(--fill-color);\n",
              "    }\n",
              "    80% {\n",
              "      border-color: transparent;\n",
              "      border-right-color: var(--fill-color);\n",
              "      border-bottom-color: var(--fill-color);\n",
              "    }\n",
              "    90% {\n",
              "      border-color: transparent;\n",
              "      border-bottom-color: var(--fill-color);\n",
              "    }\n",
              "  }\n",
              "</style>\n",
              "\n",
              "  <script>\n",
              "    async function quickchart(key) {\n",
              "      const quickchartButtonEl =\n",
              "        document.querySelector('#' + key + ' button');\n",
              "      quickchartButtonEl.disabled = true;  // To prevent multiple clicks.\n",
              "      quickchartButtonEl.classList.add('colab-df-spinner');\n",
              "      try {\n",
              "        const charts = await google.colab.kernel.invokeFunction(\n",
              "            'suggestCharts', [key], {});\n",
              "      } catch (error) {\n",
              "        console.error('Error during call to suggestCharts:', error);\n",
              "      }\n",
              "      quickchartButtonEl.classList.remove('colab-df-spinner');\n",
              "      quickchartButtonEl.classList.add('colab-df-quickchart-complete');\n",
              "    }\n",
              "    (() => {\n",
              "      let quickchartButtonEl =\n",
              "        document.querySelector('#df-43dd3cc0-a011-49b5-be2d-a81f76b1bc57 button');\n",
              "      quickchartButtonEl.style.display =\n",
              "        google.colab.kernel.accessAllowed ? 'block' : 'none';\n",
              "    })();\n",
              "  </script>\n",
              "</div>\n",
              "    </div>\n",
              "  </div>\n"
            ]
          },
          "metadata": {},
          "execution_count": 113
        }
      ],
      "source": [
        "df.rename(columns={\"parental level of education\": \"education\", \"test preparation course\": \"test\"})"
      ]
    },
    {
      "cell_type": "markdown",
      "id": "951d17fc-3f2d-4b84-8719-aaa84485fbb3",
      "metadata": {
        "id": "951d17fc-3f2d-4b84-8719-aaa84485fbb3"
      },
      "source": [
        "**Зафиксируем минимальный балл для сдачи экзамена**"
      ]
    },
    {
      "cell_type": "code",
      "execution_count": 114,
      "id": "85cfd6f7-9058-46e3-abfb-ff68ff850928",
      "metadata": {
        "id": "85cfd6f7-9058-46e3-abfb-ff68ff850928"
      },
      "outputs": [],
      "source": [
        "passmark = 50"
      ]
    },
    {
      "cell_type": "markdown",
      "id": "057ac390-f5fa-4207-ac2a-9e51e85835e1",
      "metadata": {
        "id": "057ac390-f5fa-4207-ac2a-9e51e85835e1"
      },
      "source": [
        "#### Задание 10. Ответьте на вопросы:\n",
        "\n",
        "    * Какая доля студентов сдала экзамен по математике (passmark > 50)?\n",
        "    * Какая доля студентов, проходивших курс подготовки к экзамену, сдала экзамен по математике?\n",
        "    * Какая доля женщин, не проходивших курс подготовки к экзамену, не сдала экзамен по математике?"
      ]
    },
    {
      "cell_type": "code",
      "execution_count": 115,
      "id": "52a1a363-2ab2-43ca-8d65-102d77df5793",
      "metadata": {
        "id": "52a1a363-2ab2-43ca-8d65-102d77df5793",
        "colab": {
          "base_uri": "https://localhost:8080/"
        },
        "outputId": "288400f2-6d1c-4837-8b81-d3a33e02df2b"
      },
      "outputs": [
        {
          "output_type": "execute_result",
          "data": {
            "text/plain": [
              "850"
            ]
          },
          "metadata": {},
          "execution_count": 115
        }
      ],
      "source": [
        "len(df[df['math score']>passmark])"
      ]
    },
    {
      "cell_type": "markdown",
      "id": "8081c453-3313-47be-be8b-6269d31f18fd",
      "metadata": {
        "id": "8081c453-3313-47be-be8b-6269d31f18fd"
      },
      "source": [
        "#### Задание 11. С помощью groupby выполните задания ниже. Также выведите время выполнения каждого из заданий.\n",
        "\n",
        "    * Для каждой этнической группы выведите средний балл за экзамен по чтению\n",
        "    * Для каждого уровня образования выведите минимальный балл за экзамен по письму"
      ]
    },
    {
      "cell_type": "code",
      "execution_count": 118,
      "id": "f363f8ce-7bde-47f7-a594-16897b4644eb",
      "metadata": {
        "id": "f363f8ce-7bde-47f7-a594-16897b4644eb",
        "colab": {
          "base_uri": "https://localhost:8080/"
        },
        "outputId": "bc14241c-e0cd-4ce1-9acb-49b730a92c55"
      },
      "outputs": [
        {
          "output_type": "execute_result",
          "data": {
            "text/plain": [
              "358"
            ]
          },
          "metadata": {},
          "execution_count": 118
        }
      ],
      "source": [
        "len(g.get_group ('completed')['math score']>passmark)"
      ]
    },
    {
      "cell_type": "markdown",
      "id": "803cc5a1-076d-457a-a7fc-da5c37663b26",
      "metadata": {
        "id": "803cc5a1-076d-457a-a7fc-da5c37663b26"
      },
      "source": [
        "#### Задание 12. Выполните задание 11 с помощью циклов. Сравните время выполнения."
      ]
    },
    {
      "cell_type": "code",
      "execution_count": 121,
      "id": "ee369d60-ad6d-4be3-97f6-3cb0d487b285",
      "metadata": {
        "id": "ee369d60-ad6d-4be3-97f6-3cb0d487b285",
        "colab": {
          "base_uri": "https://localhost:8080/"
        },
        "outputId": "818a612e-e604-4a28-d669-05ab5def6f26"
      },
      "outputs": [
        {
          "output_type": "stream",
          "name": "stdout",
          "text": [
            "--- 0.005162477493286133 seconds ---\n",
            "--- 0.2568674087524414 seconds ---\n"
          ]
        }
      ],
      "source": [
        "import time\n",
        "start_time = time.time()\n",
        "len(g.get_group ('completed')['math score']>passmark)\n",
        "\n",
        "print(\"--- %s seconds ---\" % (time.time() - start_time))\n",
        "\n",
        "start_time = time.time()\n",
        "x = 0\n",
        "i = 0\n",
        "\n",
        "c = g.get_group ('completed')['math score']\n",
        "while i < len (g.get_group ('completed')['math score']):\n",
        "  if c.iloc[i] > passmark:\n",
        "    x+=1\n",
        "  i+=1\n",
        "\n",
        "print(\"--- %s seconds ---\" % (time.time() - start_time))"
      ]
    },
    {
      "cell_type": "markdown",
      "id": "44a506be-1a25-4545-9fda-c67a2f750942",
      "metadata": {
        "id": "44a506be-1a25-4545-9fda-c67a2f750942"
      },
      "source": [
        "#### Задание 13. Выведите на экран средние баллы студентов по каждому предмету в зависимости от пола и уровня образования. То есть должно получиться количество групп, равных 2 * (число уровней образования), и для каждой такой группы выыведите средний балл по каждому из предметов.\n",
        "\n",
        "Это можно сделать с помощью сводных таблиц (pivot_table):\n",
        "\n",
        "https://www.kaggle.com/kamilpolak/tutorial-how-to-use-pivot-table-in-pandas"
      ]
    },
    {
      "cell_type": "code",
      "execution_count": 130,
      "id": "d5a19324-8682-4710-9373-98686ed38097",
      "metadata": {
        "id": "d5a19324-8682-4710-9373-98686ed38097",
        "colab": {
          "base_uri": "https://localhost:8080/",
          "height": 457
        },
        "outputId": "0a51fe75-9db0-44d9-d121-574388146fc2"
      },
      "outputs": [
        {
          "output_type": "execute_result",
          "data": {
            "text/plain": [
              "                                         mean\n",
              "gender parental level of education           \n",
              "female associate's degree           68.961207\n",
              "       bachelor's degree            66.912698\n",
              "       high school                  66.914894\n",
              "       master's degree              68.888889\n",
              "       some college                 68.347458\n",
              "       some high school             68.175824\n",
              "male   associate's degree           67.882075\n",
              "       bachelor's degree            67.809091\n",
              "       high school                  66.348039\n",
              "       master's degree              69.021739\n",
              "       some college                 67.481481\n",
              "       some high school             65.988636"
            ],
            "text/html": [
              "\n",
              "  <div id=\"df-7f02e0ce-aef9-44a2-a323-3c8116efac6d\" class=\"colab-df-container\">\n",
              "    <div>\n",
              "<style scoped>\n",
              "    .dataframe tbody tr th:only-of-type {\n",
              "        vertical-align: middle;\n",
              "    }\n",
              "\n",
              "    .dataframe tbody tr th {\n",
              "        vertical-align: top;\n",
              "    }\n",
              "\n",
              "    .dataframe thead th {\n",
              "        text-align: right;\n",
              "    }\n",
              "</style>\n",
              "<table border=\"1\" class=\"dataframe\">\n",
              "  <thead>\n",
              "    <tr style=\"text-align: right;\">\n",
              "      <th></th>\n",
              "      <th></th>\n",
              "      <th>mean</th>\n",
              "    </tr>\n",
              "    <tr>\n",
              "      <th>gender</th>\n",
              "      <th>parental level of education</th>\n",
              "      <th></th>\n",
              "    </tr>\n",
              "  </thead>\n",
              "  <tbody>\n",
              "    <tr>\n",
              "      <th rowspan=\"6\" valign=\"top\">female</th>\n",
              "      <th>associate's degree</th>\n",
              "      <td>68.961207</td>\n",
              "    </tr>\n",
              "    <tr>\n",
              "      <th>bachelor's degree</th>\n",
              "      <td>66.912698</td>\n",
              "    </tr>\n",
              "    <tr>\n",
              "      <th>high school</th>\n",
              "      <td>66.914894</td>\n",
              "    </tr>\n",
              "    <tr>\n",
              "      <th>master's degree</th>\n",
              "      <td>68.888889</td>\n",
              "    </tr>\n",
              "    <tr>\n",
              "      <th>some college</th>\n",
              "      <td>68.347458</td>\n",
              "    </tr>\n",
              "    <tr>\n",
              "      <th>some high school</th>\n",
              "      <td>68.175824</td>\n",
              "    </tr>\n",
              "    <tr>\n",
              "      <th rowspan=\"6\" valign=\"top\">male</th>\n",
              "      <th>associate's degree</th>\n",
              "      <td>67.882075</td>\n",
              "    </tr>\n",
              "    <tr>\n",
              "      <th>bachelor's degree</th>\n",
              "      <td>67.809091</td>\n",
              "    </tr>\n",
              "    <tr>\n",
              "      <th>high school</th>\n",
              "      <td>66.348039</td>\n",
              "    </tr>\n",
              "    <tr>\n",
              "      <th>master's degree</th>\n",
              "      <td>69.021739</td>\n",
              "    </tr>\n",
              "    <tr>\n",
              "      <th>some college</th>\n",
              "      <td>67.481481</td>\n",
              "    </tr>\n",
              "    <tr>\n",
              "      <th>some high school</th>\n",
              "      <td>65.988636</td>\n",
              "    </tr>\n",
              "  </tbody>\n",
              "</table>\n",
              "</div>\n",
              "    <div class=\"colab-df-buttons\">\n",
              "\n",
              "  <div class=\"colab-df-container\">\n",
              "    <button class=\"colab-df-convert\" onclick=\"convertToInteractive('df-7f02e0ce-aef9-44a2-a323-3c8116efac6d')\"\n",
              "            title=\"Convert this dataframe to an interactive table.\"\n",
              "            style=\"display:none;\">\n",
              "\n",
              "  <svg xmlns=\"http://www.w3.org/2000/svg\" height=\"24px\" viewBox=\"0 -960 960 960\">\n",
              "    <path d=\"M120-120v-720h720v720H120Zm60-500h600v-160H180v160Zm220 220h160v-160H400v160Zm0 220h160v-160H400v160ZM180-400h160v-160H180v160Zm440 0h160v-160H620v160ZM180-180h160v-160H180v160Zm440 0h160v-160H620v160Z\"/>\n",
              "  </svg>\n",
              "    </button>\n",
              "\n",
              "  <style>\n",
              "    .colab-df-container {\n",
              "      display:flex;\n",
              "      gap: 12px;\n",
              "    }\n",
              "\n",
              "    .colab-df-convert {\n",
              "      background-color: #E8F0FE;\n",
              "      border: none;\n",
              "      border-radius: 50%;\n",
              "      cursor: pointer;\n",
              "      display: none;\n",
              "      fill: #1967D2;\n",
              "      height: 32px;\n",
              "      padding: 0 0 0 0;\n",
              "      width: 32px;\n",
              "    }\n",
              "\n",
              "    .colab-df-convert:hover {\n",
              "      background-color: #E2EBFA;\n",
              "      box-shadow: 0px 1px 2px rgba(60, 64, 67, 0.3), 0px 1px 3px 1px rgba(60, 64, 67, 0.15);\n",
              "      fill: #174EA6;\n",
              "    }\n",
              "\n",
              "    .colab-df-buttons div {\n",
              "      margin-bottom: 4px;\n",
              "    }\n",
              "\n",
              "    [theme=dark] .colab-df-convert {\n",
              "      background-color: #3B4455;\n",
              "      fill: #D2E3FC;\n",
              "    }\n",
              "\n",
              "    [theme=dark] .colab-df-convert:hover {\n",
              "      background-color: #434B5C;\n",
              "      box-shadow: 0px 1px 3px 1px rgba(0, 0, 0, 0.15);\n",
              "      filter: drop-shadow(0px 1px 2px rgba(0, 0, 0, 0.3));\n",
              "      fill: #FFFFFF;\n",
              "    }\n",
              "  </style>\n",
              "\n",
              "    <script>\n",
              "      const buttonEl =\n",
              "        document.querySelector('#df-7f02e0ce-aef9-44a2-a323-3c8116efac6d button.colab-df-convert');\n",
              "      buttonEl.style.display =\n",
              "        google.colab.kernel.accessAllowed ? 'block' : 'none';\n",
              "\n",
              "      async function convertToInteractive(key) {\n",
              "        const element = document.querySelector('#df-7f02e0ce-aef9-44a2-a323-3c8116efac6d');\n",
              "        const dataTable =\n",
              "          await google.colab.kernel.invokeFunction('convertToInteractive',\n",
              "                                                    [key], {});\n",
              "        if (!dataTable) return;\n",
              "\n",
              "        const docLinkHtml = 'Like what you see? Visit the ' +\n",
              "          '<a target=\"_blank\" href=https://colab.research.google.com/notebooks/data_table.ipynb>data table notebook</a>'\n",
              "          + ' to learn more about interactive tables.';\n",
              "        element.innerHTML = '';\n",
              "        dataTable['output_type'] = 'display_data';\n",
              "        await google.colab.output.renderOutput(dataTable, element);\n",
              "        const docLink = document.createElement('div');\n",
              "        docLink.innerHTML = docLinkHtml;\n",
              "        element.appendChild(docLink);\n",
              "      }\n",
              "    </script>\n",
              "  </div>\n",
              "\n",
              "\n",
              "<div id=\"df-2fec85e8-f3aa-4b91-803f-e1fbff5b2749\">\n",
              "  <button class=\"colab-df-quickchart\" onclick=\"quickchart('df-2fec85e8-f3aa-4b91-803f-e1fbff5b2749')\"\n",
              "            title=\"Suggest charts\"\n",
              "            style=\"display:none;\">\n",
              "\n",
              "<svg xmlns=\"http://www.w3.org/2000/svg\" height=\"24px\"viewBox=\"0 0 24 24\"\n",
              "     width=\"24px\">\n",
              "    <g>\n",
              "        <path d=\"M19 3H5c-1.1 0-2 .9-2 2v14c0 1.1.9 2 2 2h14c1.1 0 2-.9 2-2V5c0-1.1-.9-2-2-2zM9 17H7v-7h2v7zm4 0h-2V7h2v10zm4 0h-2v-4h2v4z\"/>\n",
              "    </g>\n",
              "</svg>\n",
              "  </button>\n",
              "\n",
              "<style>\n",
              "  .colab-df-quickchart {\n",
              "      --bg-color: #E8F0FE;\n",
              "      --fill-color: #1967D2;\n",
              "      --hover-bg-color: #E2EBFA;\n",
              "      --hover-fill-color: #174EA6;\n",
              "      --disabled-fill-color: #AAA;\n",
              "      --disabled-bg-color: #DDD;\n",
              "  }\n",
              "\n",
              "  [theme=dark] .colab-df-quickchart {\n",
              "      --bg-color: #3B4455;\n",
              "      --fill-color: #D2E3FC;\n",
              "      --hover-bg-color: #434B5C;\n",
              "      --hover-fill-color: #FFFFFF;\n",
              "      --disabled-bg-color: #3B4455;\n",
              "      --disabled-fill-color: #666;\n",
              "  }\n",
              "\n",
              "  .colab-df-quickchart {\n",
              "    background-color: var(--bg-color);\n",
              "    border: none;\n",
              "    border-radius: 50%;\n",
              "    cursor: pointer;\n",
              "    display: none;\n",
              "    fill: var(--fill-color);\n",
              "    height: 32px;\n",
              "    padding: 0;\n",
              "    width: 32px;\n",
              "  }\n",
              "\n",
              "  .colab-df-quickchart:hover {\n",
              "    background-color: var(--hover-bg-color);\n",
              "    box-shadow: 0 1px 2px rgba(60, 64, 67, 0.3), 0 1px 3px 1px rgba(60, 64, 67, 0.15);\n",
              "    fill: var(--button-hover-fill-color);\n",
              "  }\n",
              "\n",
              "  .colab-df-quickchart-complete:disabled,\n",
              "  .colab-df-quickchart-complete:disabled:hover {\n",
              "    background-color: var(--disabled-bg-color);\n",
              "    fill: var(--disabled-fill-color);\n",
              "    box-shadow: none;\n",
              "  }\n",
              "\n",
              "  .colab-df-spinner {\n",
              "    border: 2px solid var(--fill-color);\n",
              "    border-color: transparent;\n",
              "    border-bottom-color: var(--fill-color);\n",
              "    animation:\n",
              "      spin 1s steps(1) infinite;\n",
              "  }\n",
              "\n",
              "  @keyframes spin {\n",
              "    0% {\n",
              "      border-color: transparent;\n",
              "      border-bottom-color: var(--fill-color);\n",
              "      border-left-color: var(--fill-color);\n",
              "    }\n",
              "    20% {\n",
              "      border-color: transparent;\n",
              "      border-left-color: var(--fill-color);\n",
              "      border-top-color: var(--fill-color);\n",
              "    }\n",
              "    30% {\n",
              "      border-color: transparent;\n",
              "      border-left-color: var(--fill-color);\n",
              "      border-top-color: var(--fill-color);\n",
              "      border-right-color: var(--fill-color);\n",
              "    }\n",
              "    40% {\n",
              "      border-color: transparent;\n",
              "      border-right-color: var(--fill-color);\n",
              "      border-top-color: var(--fill-color);\n",
              "    }\n",
              "    60% {\n",
              "      border-color: transparent;\n",
              "      border-right-color: var(--fill-color);\n",
              "    }\n",
              "    80% {\n",
              "      border-color: transparent;\n",
              "      border-right-color: var(--fill-color);\n",
              "      border-bottom-color: var(--fill-color);\n",
              "    }\n",
              "    90% {\n",
              "      border-color: transparent;\n",
              "      border-bottom-color: var(--fill-color);\n",
              "    }\n",
              "  }\n",
              "</style>\n",
              "\n",
              "  <script>\n",
              "    async function quickchart(key) {\n",
              "      const quickchartButtonEl =\n",
              "        document.querySelector('#' + key + ' button');\n",
              "      quickchartButtonEl.disabled = true;  // To prevent multiple clicks.\n",
              "      quickchartButtonEl.classList.add('colab-df-spinner');\n",
              "      try {\n",
              "        const charts = await google.colab.kernel.invokeFunction(\n",
              "            'suggestCharts', [key], {});\n",
              "      } catch (error) {\n",
              "        console.error('Error during call to suggestCharts:', error);\n",
              "      }\n",
              "      quickchartButtonEl.classList.remove('colab-df-spinner');\n",
              "      quickchartButtonEl.classList.add('colab-df-quickchart-complete');\n",
              "    }\n",
              "    (() => {\n",
              "      let quickchartButtonEl =\n",
              "        document.querySelector('#df-2fec85e8-f3aa-4b91-803f-e1fbff5b2749 button');\n",
              "      quickchartButtonEl.style.display =\n",
              "        google.colab.kernel.accessAllowed ? 'block' : 'none';\n",
              "    })();\n",
              "  </script>\n",
              "</div>\n",
              "    </div>\n",
              "  </div>\n"
            ]
          },
          "metadata": {},
          "execution_count": 130
        }
      ],
      "source": [
        "grouped = pd.pivot_table(df.drop (df.columns[[1, 3, 4, 5, 6, 7, 8]], axis=1) ,index=['gender','parental level of education'])\n",
        "grouped\n"
      ]
    },
    {
      "cell_type": "markdown",
      "id": "b3e7d0a8-0ae5-410c-92b2-ad58b115b4c5",
      "metadata": {
        "_uuid": "3e832cb427c4314582d1953a41b8c78db75e30e3",
        "id": "b3e7d0a8-0ae5-410c-92b2-ad58b115b4c5"
      },
      "source": [
        "#### Задание 14. Сколько студентов успешно сдали экзамен по математике?\n",
        "\n",
        "Создайте новый столбец в таблице df под названием Math_PassStatus и запишите в него F, если студент не сдал экзамен по математике (балл за экзамен < passmark), и P иначе.\n",
        "\n",
        "Посчитайте количество студентов, сдавших и не сдавших экзамен по математике.\n",
        "\n",
        "Сделайте аналогичные шаги для экзаменов по чтению и письму."
      ]
    },
    {
      "cell_type": "code",
      "execution_count": 134,
      "id": "664fb5ea-949e-4067-8f7b-b601dde7546c",
      "metadata": {
        "_uuid": "f43cddb72cc96b30df84bc0de83a4d9170904340",
        "id": "664fb5ea-949e-4067-8f7b-b601dde7546c",
        "colab": {
          "base_uri": "https://localhost:8080/",
          "height": 206
        },
        "outputId": "8d071578-a328-483c-9702-1c26e0a861ff"
      },
      "outputs": [
        {
          "output_type": "execute_result",
          "data": {
            "text/plain": [
              "   gender race/ethnicity parental level of education     lunch  \\\n",
              "0    male        group B                some college  standard   \n",
              "1    male        group D           bachelor's degree  standard   \n",
              "2  female        group D          associate's degree  standard   \n",
              "3    male        group B                 high school  standard   \n",
              "4    male        group C                some college  standard   \n",
              "\n",
              "  test preparation course   group  math score  reading score  writing score  \\\n",
              "0                    none  group2          72             72             74   \n",
              "1               completed  group2          69             90             88   \n",
              "2                    none  group2          90             95             93   \n",
              "3               completed  group2          47             57             44   \n",
              "4               completed  group2          76             78             75   \n",
              "\n",
              "   mean Math_PassStatus  \n",
              "0  72.0               P  \n",
              "1  79.5               P  \n",
              "2  92.5               P  \n",
              "3  52.0               F  \n",
              "4  77.0               P  "
            ],
            "text/html": [
              "\n",
              "  <div id=\"df-5916a363-c7d1-4114-9965-0a37eb4dafd0\" class=\"colab-df-container\">\n",
              "    <div>\n",
              "<style scoped>\n",
              "    .dataframe tbody tr th:only-of-type {\n",
              "        vertical-align: middle;\n",
              "    }\n",
              "\n",
              "    .dataframe tbody tr th {\n",
              "        vertical-align: top;\n",
              "    }\n",
              "\n",
              "    .dataframe thead th {\n",
              "        text-align: right;\n",
              "    }\n",
              "</style>\n",
              "<table border=\"1\" class=\"dataframe\">\n",
              "  <thead>\n",
              "    <tr style=\"text-align: right;\">\n",
              "      <th></th>\n",
              "      <th>gender</th>\n",
              "      <th>race/ethnicity</th>\n",
              "      <th>parental level of education</th>\n",
              "      <th>lunch</th>\n",
              "      <th>test preparation course</th>\n",
              "      <th>group</th>\n",
              "      <th>math score</th>\n",
              "      <th>reading score</th>\n",
              "      <th>writing score</th>\n",
              "      <th>mean</th>\n",
              "      <th>Math_PassStatus</th>\n",
              "    </tr>\n",
              "  </thead>\n",
              "  <tbody>\n",
              "    <tr>\n",
              "      <th>0</th>\n",
              "      <td>male</td>\n",
              "      <td>group B</td>\n",
              "      <td>some college</td>\n",
              "      <td>standard</td>\n",
              "      <td>none</td>\n",
              "      <td>group2</td>\n",
              "      <td>72</td>\n",
              "      <td>72</td>\n",
              "      <td>74</td>\n",
              "      <td>72.0</td>\n",
              "      <td>P</td>\n",
              "    </tr>\n",
              "    <tr>\n",
              "      <th>1</th>\n",
              "      <td>male</td>\n",
              "      <td>group D</td>\n",
              "      <td>bachelor's degree</td>\n",
              "      <td>standard</td>\n",
              "      <td>completed</td>\n",
              "      <td>group2</td>\n",
              "      <td>69</td>\n",
              "      <td>90</td>\n",
              "      <td>88</td>\n",
              "      <td>79.5</td>\n",
              "      <td>P</td>\n",
              "    </tr>\n",
              "    <tr>\n",
              "      <th>2</th>\n",
              "      <td>female</td>\n",
              "      <td>group D</td>\n",
              "      <td>associate's degree</td>\n",
              "      <td>standard</td>\n",
              "      <td>none</td>\n",
              "      <td>group2</td>\n",
              "      <td>90</td>\n",
              "      <td>95</td>\n",
              "      <td>93</td>\n",
              "      <td>92.5</td>\n",
              "      <td>P</td>\n",
              "    </tr>\n",
              "    <tr>\n",
              "      <th>3</th>\n",
              "      <td>male</td>\n",
              "      <td>group B</td>\n",
              "      <td>high school</td>\n",
              "      <td>standard</td>\n",
              "      <td>completed</td>\n",
              "      <td>group2</td>\n",
              "      <td>47</td>\n",
              "      <td>57</td>\n",
              "      <td>44</td>\n",
              "      <td>52.0</td>\n",
              "      <td>F</td>\n",
              "    </tr>\n",
              "    <tr>\n",
              "      <th>4</th>\n",
              "      <td>male</td>\n",
              "      <td>group C</td>\n",
              "      <td>some college</td>\n",
              "      <td>standard</td>\n",
              "      <td>completed</td>\n",
              "      <td>group2</td>\n",
              "      <td>76</td>\n",
              "      <td>78</td>\n",
              "      <td>75</td>\n",
              "      <td>77.0</td>\n",
              "      <td>P</td>\n",
              "    </tr>\n",
              "  </tbody>\n",
              "</table>\n",
              "</div>\n",
              "    <div class=\"colab-df-buttons\">\n",
              "\n",
              "  <div class=\"colab-df-container\">\n",
              "    <button class=\"colab-df-convert\" onclick=\"convertToInteractive('df-5916a363-c7d1-4114-9965-0a37eb4dafd0')\"\n",
              "            title=\"Convert this dataframe to an interactive table.\"\n",
              "            style=\"display:none;\">\n",
              "\n",
              "  <svg xmlns=\"http://www.w3.org/2000/svg\" height=\"24px\" viewBox=\"0 -960 960 960\">\n",
              "    <path d=\"M120-120v-720h720v720H120Zm60-500h600v-160H180v160Zm220 220h160v-160H400v160Zm0 220h160v-160H400v160ZM180-400h160v-160H180v160Zm440 0h160v-160H620v160ZM180-180h160v-160H180v160Zm440 0h160v-160H620v160Z\"/>\n",
              "  </svg>\n",
              "    </button>\n",
              "\n",
              "  <style>\n",
              "    .colab-df-container {\n",
              "      display:flex;\n",
              "      gap: 12px;\n",
              "    }\n",
              "\n",
              "    .colab-df-convert {\n",
              "      background-color: #E8F0FE;\n",
              "      border: none;\n",
              "      border-radius: 50%;\n",
              "      cursor: pointer;\n",
              "      display: none;\n",
              "      fill: #1967D2;\n",
              "      height: 32px;\n",
              "      padding: 0 0 0 0;\n",
              "      width: 32px;\n",
              "    }\n",
              "\n",
              "    .colab-df-convert:hover {\n",
              "      background-color: #E2EBFA;\n",
              "      box-shadow: 0px 1px 2px rgba(60, 64, 67, 0.3), 0px 1px 3px 1px rgba(60, 64, 67, 0.15);\n",
              "      fill: #174EA6;\n",
              "    }\n",
              "\n",
              "    .colab-df-buttons div {\n",
              "      margin-bottom: 4px;\n",
              "    }\n",
              "\n",
              "    [theme=dark] .colab-df-convert {\n",
              "      background-color: #3B4455;\n",
              "      fill: #D2E3FC;\n",
              "    }\n",
              "\n",
              "    [theme=dark] .colab-df-convert:hover {\n",
              "      background-color: #434B5C;\n",
              "      box-shadow: 0px 1px 3px 1px rgba(0, 0, 0, 0.15);\n",
              "      filter: drop-shadow(0px 1px 2px rgba(0, 0, 0, 0.3));\n",
              "      fill: #FFFFFF;\n",
              "    }\n",
              "  </style>\n",
              "\n",
              "    <script>\n",
              "      const buttonEl =\n",
              "        document.querySelector('#df-5916a363-c7d1-4114-9965-0a37eb4dafd0 button.colab-df-convert');\n",
              "      buttonEl.style.display =\n",
              "        google.colab.kernel.accessAllowed ? 'block' : 'none';\n",
              "\n",
              "      async function convertToInteractive(key) {\n",
              "        const element = document.querySelector('#df-5916a363-c7d1-4114-9965-0a37eb4dafd0');\n",
              "        const dataTable =\n",
              "          await google.colab.kernel.invokeFunction('convertToInteractive',\n",
              "                                                    [key], {});\n",
              "        if (!dataTable) return;\n",
              "\n",
              "        const docLinkHtml = 'Like what you see? Visit the ' +\n",
              "          '<a target=\"_blank\" href=https://colab.research.google.com/notebooks/data_table.ipynb>data table notebook</a>'\n",
              "          + ' to learn more about interactive tables.';\n",
              "        element.innerHTML = '';\n",
              "        dataTable['output_type'] = 'display_data';\n",
              "        await google.colab.output.renderOutput(dataTable, element);\n",
              "        const docLink = document.createElement('div');\n",
              "        docLink.innerHTML = docLinkHtml;\n",
              "        element.appendChild(docLink);\n",
              "      }\n",
              "    </script>\n",
              "  </div>\n",
              "\n",
              "\n",
              "<div id=\"df-263957fb-e00b-4da1-b776-c3eaab8ad5cf\">\n",
              "  <button class=\"colab-df-quickchart\" onclick=\"quickchart('df-263957fb-e00b-4da1-b776-c3eaab8ad5cf')\"\n",
              "            title=\"Suggest charts\"\n",
              "            style=\"display:none;\">\n",
              "\n",
              "<svg xmlns=\"http://www.w3.org/2000/svg\" height=\"24px\"viewBox=\"0 0 24 24\"\n",
              "     width=\"24px\">\n",
              "    <g>\n",
              "        <path d=\"M19 3H5c-1.1 0-2 .9-2 2v14c0 1.1.9 2 2 2h14c1.1 0 2-.9 2-2V5c0-1.1-.9-2-2-2zM9 17H7v-7h2v7zm4 0h-2V7h2v10zm4 0h-2v-4h2v4z\"/>\n",
              "    </g>\n",
              "</svg>\n",
              "  </button>\n",
              "\n",
              "<style>\n",
              "  .colab-df-quickchart {\n",
              "      --bg-color: #E8F0FE;\n",
              "      --fill-color: #1967D2;\n",
              "      --hover-bg-color: #E2EBFA;\n",
              "      --hover-fill-color: #174EA6;\n",
              "      --disabled-fill-color: #AAA;\n",
              "      --disabled-bg-color: #DDD;\n",
              "  }\n",
              "\n",
              "  [theme=dark] .colab-df-quickchart {\n",
              "      --bg-color: #3B4455;\n",
              "      --fill-color: #D2E3FC;\n",
              "      --hover-bg-color: #434B5C;\n",
              "      --hover-fill-color: #FFFFFF;\n",
              "      --disabled-bg-color: #3B4455;\n",
              "      --disabled-fill-color: #666;\n",
              "  }\n",
              "\n",
              "  .colab-df-quickchart {\n",
              "    background-color: var(--bg-color);\n",
              "    border: none;\n",
              "    border-radius: 50%;\n",
              "    cursor: pointer;\n",
              "    display: none;\n",
              "    fill: var(--fill-color);\n",
              "    height: 32px;\n",
              "    padding: 0;\n",
              "    width: 32px;\n",
              "  }\n",
              "\n",
              "  .colab-df-quickchart:hover {\n",
              "    background-color: var(--hover-bg-color);\n",
              "    box-shadow: 0 1px 2px rgba(60, 64, 67, 0.3), 0 1px 3px 1px rgba(60, 64, 67, 0.15);\n",
              "    fill: var(--button-hover-fill-color);\n",
              "  }\n",
              "\n",
              "  .colab-df-quickchart-complete:disabled,\n",
              "  .colab-df-quickchart-complete:disabled:hover {\n",
              "    background-color: var(--disabled-bg-color);\n",
              "    fill: var(--disabled-fill-color);\n",
              "    box-shadow: none;\n",
              "  }\n",
              "\n",
              "  .colab-df-spinner {\n",
              "    border: 2px solid var(--fill-color);\n",
              "    border-color: transparent;\n",
              "    border-bottom-color: var(--fill-color);\n",
              "    animation:\n",
              "      spin 1s steps(1) infinite;\n",
              "  }\n",
              "\n",
              "  @keyframes spin {\n",
              "    0% {\n",
              "      border-color: transparent;\n",
              "      border-bottom-color: var(--fill-color);\n",
              "      border-left-color: var(--fill-color);\n",
              "    }\n",
              "    20% {\n",
              "      border-color: transparent;\n",
              "      border-left-color: var(--fill-color);\n",
              "      border-top-color: var(--fill-color);\n",
              "    }\n",
              "    30% {\n",
              "      border-color: transparent;\n",
              "      border-left-color: var(--fill-color);\n",
              "      border-top-color: var(--fill-color);\n",
              "      border-right-color: var(--fill-color);\n",
              "    }\n",
              "    40% {\n",
              "      border-color: transparent;\n",
              "      border-right-color: var(--fill-color);\n",
              "      border-top-color: var(--fill-color);\n",
              "    }\n",
              "    60% {\n",
              "      border-color: transparent;\n",
              "      border-right-color: var(--fill-color);\n",
              "    }\n",
              "    80% {\n",
              "      border-color: transparent;\n",
              "      border-right-color: var(--fill-color);\n",
              "      border-bottom-color: var(--fill-color);\n",
              "    }\n",
              "    90% {\n",
              "      border-color: transparent;\n",
              "      border-bottom-color: var(--fill-color);\n",
              "    }\n",
              "  }\n",
              "</style>\n",
              "\n",
              "  <script>\n",
              "    async function quickchart(key) {\n",
              "      const quickchartButtonEl =\n",
              "        document.querySelector('#' + key + ' button');\n",
              "      quickchartButtonEl.disabled = true;  // To prevent multiple clicks.\n",
              "      quickchartButtonEl.classList.add('colab-df-spinner');\n",
              "      try {\n",
              "        const charts = await google.colab.kernel.invokeFunction(\n",
              "            'suggestCharts', [key], {});\n",
              "      } catch (error) {\n",
              "        console.error('Error during call to suggestCharts:', error);\n",
              "      }\n",
              "      quickchartButtonEl.classList.remove('colab-df-spinner');\n",
              "      quickchartButtonEl.classList.add('colab-df-quickchart-complete');\n",
              "    }\n",
              "    (() => {\n",
              "      let quickchartButtonEl =\n",
              "        document.querySelector('#df-263957fb-e00b-4da1-b776-c3eaab8ad5cf button');\n",
              "      quickchartButtonEl.style.display =\n",
              "        google.colab.kernel.accessAllowed ? 'block' : 'none';\n",
              "    })();\n",
              "  </script>\n",
              "</div>\n",
              "    </div>\n",
              "  </div>\n"
            ]
          },
          "metadata": {},
          "execution_count": 134
        }
      ],
      "source": [
        "i = 0\n",
        "\n",
        "passed = []\n",
        "\n",
        "while i < len (df['math score']):\n",
        "  if df.iloc[i]['math score'] > passmark:\n",
        "    passed.append('P')\n",
        "  else:\n",
        "    passed.append('F')\n",
        "  i+=1\n",
        "\n",
        "df['Math_PassStatus'] = passed\n",
        "df.head ()"
      ]
    },
    {
      "cell_type": "markdown",
      "id": "648bf745-5c3f-458d-b210-b2ad6f955da9",
      "metadata": {
        "_uuid": "b753c90914ee65501e2ed263ea614d88a381c472",
        "id": "648bf745-5c3f-458d-b210-b2ad6f955da9"
      },
      "source": [
        "#### Задание 15. Сколько студентов успешно сдали все экзамены?\n",
        "\n",
        "Создайте столбец OverAll_PassStatus и запишите в него для каждого студента 'F', если студент не сдал хотя бы один из трех экзаменов, а иначе 'P'.\n",
        "\n",
        "Посчитайте количество студентов, которые сдали все экзамены."
      ]
    },
    {
      "cell_type": "code",
      "execution_count": 139,
      "id": "738476ae-9522-444a-ab82-a7f364c6a0ec",
      "metadata": {
        "_uuid": "e98f895a022b967cab801447b616222439fe9d84",
        "id": "738476ae-9522-444a-ab82-a7f364c6a0ec",
        "colab": {
          "base_uri": "https://localhost:8080/",
          "height": 206
        },
        "outputId": "f3d4f8c1-f085-4e01-ec5e-f8576f39804f"
      },
      "outputs": [
        {
          "output_type": "execute_result",
          "data": {
            "text/plain": [
              "   gender race/ethnicity parental level of education     lunch  \\\n",
              "0    male        group B                some college  standard   \n",
              "1    male        group D           bachelor's degree  standard   \n",
              "2  female        group D          associate's degree  standard   \n",
              "3    male        group B                 high school  standard   \n",
              "4    male        group C                some college  standard   \n",
              "\n",
              "  test preparation course   group  math score  reading score  writing score  \\\n",
              "0                    none  group2          72             72             74   \n",
              "1               completed  group2          69             90             88   \n",
              "2                    none  group2          90             95             93   \n",
              "3               completed  group2          47             57             44   \n",
              "4               completed  group2          76             78             75   \n",
              "\n",
              "   mean Math_PassStatus OverAll_PassStatus  \n",
              "0  72.0               P                  P  \n",
              "1  79.5               P                  P  \n",
              "2  92.5               P                  P  \n",
              "3  52.0               F                  F  \n",
              "4  77.0               P                  P  "
            ],
            "text/html": [
              "\n",
              "  <div id=\"df-03d55555-c298-48f8-b72a-d59853454c5d\" class=\"colab-df-container\">\n",
              "    <div>\n",
              "<style scoped>\n",
              "    .dataframe tbody tr th:only-of-type {\n",
              "        vertical-align: middle;\n",
              "    }\n",
              "\n",
              "    .dataframe tbody tr th {\n",
              "        vertical-align: top;\n",
              "    }\n",
              "\n",
              "    .dataframe thead th {\n",
              "        text-align: right;\n",
              "    }\n",
              "</style>\n",
              "<table border=\"1\" class=\"dataframe\">\n",
              "  <thead>\n",
              "    <tr style=\"text-align: right;\">\n",
              "      <th></th>\n",
              "      <th>gender</th>\n",
              "      <th>race/ethnicity</th>\n",
              "      <th>parental level of education</th>\n",
              "      <th>lunch</th>\n",
              "      <th>test preparation course</th>\n",
              "      <th>group</th>\n",
              "      <th>math score</th>\n",
              "      <th>reading score</th>\n",
              "      <th>writing score</th>\n",
              "      <th>mean</th>\n",
              "      <th>Math_PassStatus</th>\n",
              "      <th>OverAll_PassStatus</th>\n",
              "    </tr>\n",
              "  </thead>\n",
              "  <tbody>\n",
              "    <tr>\n",
              "      <th>0</th>\n",
              "      <td>male</td>\n",
              "      <td>group B</td>\n",
              "      <td>some college</td>\n",
              "      <td>standard</td>\n",
              "      <td>none</td>\n",
              "      <td>group2</td>\n",
              "      <td>72</td>\n",
              "      <td>72</td>\n",
              "      <td>74</td>\n",
              "      <td>72.0</td>\n",
              "      <td>P</td>\n",
              "      <td>P</td>\n",
              "    </tr>\n",
              "    <tr>\n",
              "      <th>1</th>\n",
              "      <td>male</td>\n",
              "      <td>group D</td>\n",
              "      <td>bachelor's degree</td>\n",
              "      <td>standard</td>\n",
              "      <td>completed</td>\n",
              "      <td>group2</td>\n",
              "      <td>69</td>\n",
              "      <td>90</td>\n",
              "      <td>88</td>\n",
              "      <td>79.5</td>\n",
              "      <td>P</td>\n",
              "      <td>P</td>\n",
              "    </tr>\n",
              "    <tr>\n",
              "      <th>2</th>\n",
              "      <td>female</td>\n",
              "      <td>group D</td>\n",
              "      <td>associate's degree</td>\n",
              "      <td>standard</td>\n",
              "      <td>none</td>\n",
              "      <td>group2</td>\n",
              "      <td>90</td>\n",
              "      <td>95</td>\n",
              "      <td>93</td>\n",
              "      <td>92.5</td>\n",
              "      <td>P</td>\n",
              "      <td>P</td>\n",
              "    </tr>\n",
              "    <tr>\n",
              "      <th>3</th>\n",
              "      <td>male</td>\n",
              "      <td>group B</td>\n",
              "      <td>high school</td>\n",
              "      <td>standard</td>\n",
              "      <td>completed</td>\n",
              "      <td>group2</td>\n",
              "      <td>47</td>\n",
              "      <td>57</td>\n",
              "      <td>44</td>\n",
              "      <td>52.0</td>\n",
              "      <td>F</td>\n",
              "      <td>F</td>\n",
              "    </tr>\n",
              "    <tr>\n",
              "      <th>4</th>\n",
              "      <td>male</td>\n",
              "      <td>group C</td>\n",
              "      <td>some college</td>\n",
              "      <td>standard</td>\n",
              "      <td>completed</td>\n",
              "      <td>group2</td>\n",
              "      <td>76</td>\n",
              "      <td>78</td>\n",
              "      <td>75</td>\n",
              "      <td>77.0</td>\n",
              "      <td>P</td>\n",
              "      <td>P</td>\n",
              "    </tr>\n",
              "  </tbody>\n",
              "</table>\n",
              "</div>\n",
              "    <div class=\"colab-df-buttons\">\n",
              "\n",
              "  <div class=\"colab-df-container\">\n",
              "    <button class=\"colab-df-convert\" onclick=\"convertToInteractive('df-03d55555-c298-48f8-b72a-d59853454c5d')\"\n",
              "            title=\"Convert this dataframe to an interactive table.\"\n",
              "            style=\"display:none;\">\n",
              "\n",
              "  <svg xmlns=\"http://www.w3.org/2000/svg\" height=\"24px\" viewBox=\"0 -960 960 960\">\n",
              "    <path d=\"M120-120v-720h720v720H120Zm60-500h600v-160H180v160Zm220 220h160v-160H400v160Zm0 220h160v-160H400v160ZM180-400h160v-160H180v160Zm440 0h160v-160H620v160ZM180-180h160v-160H180v160Zm440 0h160v-160H620v160Z\"/>\n",
              "  </svg>\n",
              "    </button>\n",
              "\n",
              "  <style>\n",
              "    .colab-df-container {\n",
              "      display:flex;\n",
              "      gap: 12px;\n",
              "    }\n",
              "\n",
              "    .colab-df-convert {\n",
              "      background-color: #E8F0FE;\n",
              "      border: none;\n",
              "      border-radius: 50%;\n",
              "      cursor: pointer;\n",
              "      display: none;\n",
              "      fill: #1967D2;\n",
              "      height: 32px;\n",
              "      padding: 0 0 0 0;\n",
              "      width: 32px;\n",
              "    }\n",
              "\n",
              "    .colab-df-convert:hover {\n",
              "      background-color: #E2EBFA;\n",
              "      box-shadow: 0px 1px 2px rgba(60, 64, 67, 0.3), 0px 1px 3px 1px rgba(60, 64, 67, 0.15);\n",
              "      fill: #174EA6;\n",
              "    }\n",
              "\n",
              "    .colab-df-buttons div {\n",
              "      margin-bottom: 4px;\n",
              "    }\n",
              "\n",
              "    [theme=dark] .colab-df-convert {\n",
              "      background-color: #3B4455;\n",
              "      fill: #D2E3FC;\n",
              "    }\n",
              "\n",
              "    [theme=dark] .colab-df-convert:hover {\n",
              "      background-color: #434B5C;\n",
              "      box-shadow: 0px 1px 3px 1px rgba(0, 0, 0, 0.15);\n",
              "      filter: drop-shadow(0px 1px 2px rgba(0, 0, 0, 0.3));\n",
              "      fill: #FFFFFF;\n",
              "    }\n",
              "  </style>\n",
              "\n",
              "    <script>\n",
              "      const buttonEl =\n",
              "        document.querySelector('#df-03d55555-c298-48f8-b72a-d59853454c5d button.colab-df-convert');\n",
              "      buttonEl.style.display =\n",
              "        google.colab.kernel.accessAllowed ? 'block' : 'none';\n",
              "\n",
              "      async function convertToInteractive(key) {\n",
              "        const element = document.querySelector('#df-03d55555-c298-48f8-b72a-d59853454c5d');\n",
              "        const dataTable =\n",
              "          await google.colab.kernel.invokeFunction('convertToInteractive',\n",
              "                                                    [key], {});\n",
              "        if (!dataTable) return;\n",
              "\n",
              "        const docLinkHtml = 'Like what you see? Visit the ' +\n",
              "          '<a target=\"_blank\" href=https://colab.research.google.com/notebooks/data_table.ipynb>data table notebook</a>'\n",
              "          + ' to learn more about interactive tables.';\n",
              "        element.innerHTML = '';\n",
              "        dataTable['output_type'] = 'display_data';\n",
              "        await google.colab.output.renderOutput(dataTable, element);\n",
              "        const docLink = document.createElement('div');\n",
              "        docLink.innerHTML = docLinkHtml;\n",
              "        element.appendChild(docLink);\n",
              "      }\n",
              "    </script>\n",
              "  </div>\n",
              "\n",
              "\n",
              "<div id=\"df-96ae0c74-59e4-4c1d-8e73-834daeb0ffcb\">\n",
              "  <button class=\"colab-df-quickchart\" onclick=\"quickchart('df-96ae0c74-59e4-4c1d-8e73-834daeb0ffcb')\"\n",
              "            title=\"Suggest charts\"\n",
              "            style=\"display:none;\">\n",
              "\n",
              "<svg xmlns=\"http://www.w3.org/2000/svg\" height=\"24px\"viewBox=\"0 0 24 24\"\n",
              "     width=\"24px\">\n",
              "    <g>\n",
              "        <path d=\"M19 3H5c-1.1 0-2 .9-2 2v14c0 1.1.9 2 2 2h14c1.1 0 2-.9 2-2V5c0-1.1-.9-2-2-2zM9 17H7v-7h2v7zm4 0h-2V7h2v10zm4 0h-2v-4h2v4z\"/>\n",
              "    </g>\n",
              "</svg>\n",
              "  </button>\n",
              "\n",
              "<style>\n",
              "  .colab-df-quickchart {\n",
              "      --bg-color: #E8F0FE;\n",
              "      --fill-color: #1967D2;\n",
              "      --hover-bg-color: #E2EBFA;\n",
              "      --hover-fill-color: #174EA6;\n",
              "      --disabled-fill-color: #AAA;\n",
              "      --disabled-bg-color: #DDD;\n",
              "  }\n",
              "\n",
              "  [theme=dark] .colab-df-quickchart {\n",
              "      --bg-color: #3B4455;\n",
              "      --fill-color: #D2E3FC;\n",
              "      --hover-bg-color: #434B5C;\n",
              "      --hover-fill-color: #FFFFFF;\n",
              "      --disabled-bg-color: #3B4455;\n",
              "      --disabled-fill-color: #666;\n",
              "  }\n",
              "\n",
              "  .colab-df-quickchart {\n",
              "    background-color: var(--bg-color);\n",
              "    border: none;\n",
              "    border-radius: 50%;\n",
              "    cursor: pointer;\n",
              "    display: none;\n",
              "    fill: var(--fill-color);\n",
              "    height: 32px;\n",
              "    padding: 0;\n",
              "    width: 32px;\n",
              "  }\n",
              "\n",
              "  .colab-df-quickchart:hover {\n",
              "    background-color: var(--hover-bg-color);\n",
              "    box-shadow: 0 1px 2px rgba(60, 64, 67, 0.3), 0 1px 3px 1px rgba(60, 64, 67, 0.15);\n",
              "    fill: var(--button-hover-fill-color);\n",
              "  }\n",
              "\n",
              "  .colab-df-quickchart-complete:disabled,\n",
              "  .colab-df-quickchart-complete:disabled:hover {\n",
              "    background-color: var(--disabled-bg-color);\n",
              "    fill: var(--disabled-fill-color);\n",
              "    box-shadow: none;\n",
              "  }\n",
              "\n",
              "  .colab-df-spinner {\n",
              "    border: 2px solid var(--fill-color);\n",
              "    border-color: transparent;\n",
              "    border-bottom-color: var(--fill-color);\n",
              "    animation:\n",
              "      spin 1s steps(1) infinite;\n",
              "  }\n",
              "\n",
              "  @keyframes spin {\n",
              "    0% {\n",
              "      border-color: transparent;\n",
              "      border-bottom-color: var(--fill-color);\n",
              "      border-left-color: var(--fill-color);\n",
              "    }\n",
              "    20% {\n",
              "      border-color: transparent;\n",
              "      border-left-color: var(--fill-color);\n",
              "      border-top-color: var(--fill-color);\n",
              "    }\n",
              "    30% {\n",
              "      border-color: transparent;\n",
              "      border-left-color: var(--fill-color);\n",
              "      border-top-color: var(--fill-color);\n",
              "      border-right-color: var(--fill-color);\n",
              "    }\n",
              "    40% {\n",
              "      border-color: transparent;\n",
              "      border-right-color: var(--fill-color);\n",
              "      border-top-color: var(--fill-color);\n",
              "    }\n",
              "    60% {\n",
              "      border-color: transparent;\n",
              "      border-right-color: var(--fill-color);\n",
              "    }\n",
              "    80% {\n",
              "      border-color: transparent;\n",
              "      border-right-color: var(--fill-color);\n",
              "      border-bottom-color: var(--fill-color);\n",
              "    }\n",
              "    90% {\n",
              "      border-color: transparent;\n",
              "      border-bottom-color: var(--fill-color);\n",
              "    }\n",
              "  }\n",
              "</style>\n",
              "\n",
              "  <script>\n",
              "    async function quickchart(key) {\n",
              "      const quickchartButtonEl =\n",
              "        document.querySelector('#' + key + ' button');\n",
              "      quickchartButtonEl.disabled = true;  // To prevent multiple clicks.\n",
              "      quickchartButtonEl.classList.add('colab-df-spinner');\n",
              "      try {\n",
              "        const charts = await google.colab.kernel.invokeFunction(\n",
              "            'suggestCharts', [key], {});\n",
              "      } catch (error) {\n",
              "        console.error('Error during call to suggestCharts:', error);\n",
              "      }\n",
              "      quickchartButtonEl.classList.remove('colab-df-spinner');\n",
              "      quickchartButtonEl.classList.add('colab-df-quickchart-complete');\n",
              "    }\n",
              "    (() => {\n",
              "      let quickchartButtonEl =\n",
              "        document.querySelector('#df-96ae0c74-59e4-4c1d-8e73-834daeb0ffcb button');\n",
              "      quickchartButtonEl.style.display =\n",
              "        google.colab.kernel.accessAllowed ? 'block' : 'none';\n",
              "    })();\n",
              "  </script>\n",
              "</div>\n",
              "    </div>\n",
              "  </div>\n"
            ]
          },
          "metadata": {},
          "execution_count": 139
        }
      ],
      "source": [
        "i = 0\n",
        "\n",
        "passed = []\n",
        "\n",
        "while i < len (df['math score']):\n",
        "  if ((df.iloc[i]['math score'] > passmark) & (df.iloc[i]['reading score'] > passmark) & (df.iloc[i]['writing score'] > passmark)):\n",
        "    passed.append('P')\n",
        "  else:\n",
        "    passed.append('F')\n",
        "  i+=1\n",
        "\n",
        "df['OverAll_PassStatus'] = passed\n",
        "df.head ()"
      ]
    },
    {
      "cell_type": "markdown",
      "id": "33b5b841-4324-4b79-bd5d-44a2f867195b",
      "metadata": {
        "_uuid": "3af9c6cb4cbfff66d4ae09509f10b8b6ce33075d",
        "id": "33b5b841-4324-4b79-bd5d-44a2f867195b"
      },
      "source": [
        "#### Задание 16. Переведем баллы в оценки\n",
        "\n",
        "### Система перевода баллов в оценки\n",
        "####      [90;100] = A\n",
        "####      [80;90) = B\n",
        "####      [70;80) = C\n",
        "####      [60;70) = D\n",
        "####      [50;60) = E\n",
        "####      [0;50) = F (Fail)\n",
        "\n",
        "Создайте вспомогательную функцию, которая будет по среднему баллу за три экзамена выставлять оценку студенту по данным выше критериям.\n",
        "\n",
        "Создайте столбец Grade и запишите в него оценку каждого студента.\n",
        "\n",
        "Выведите количество студентов, получивших каждую из оценок."
      ]
    },
    {
      "cell_type": "code",
      "execution_count": 178,
      "id": "4bce243b-d394-4dba-85cc-bc95cd9b3a78",
      "metadata": {
        "_uuid": "04707c5be4237020b906d2ac705a0db3d620506f",
        "id": "4bce243b-d394-4dba-85cc-bc95cd9b3a78",
        "colab": {
          "base_uri": "https://localhost:8080/",
          "height": 335
        },
        "outputId": "8ea2cc48-c7e3-4a0c-fedb-bbbcad89806b"
      },
      "outputs": [
        {
          "output_type": "stream",
          "name": "stdout",
          "text": [
            "D    269\n",
            "C    240\n",
            "E    189\n",
            "B    141\n",
            "F    117\n",
            "A     44\n",
            "Name: Grade, dtype: int64\n"
          ]
        },
        {
          "output_type": "execute_result",
          "data": {
            "text/plain": [
              "   gender race/ethnicity parental level of education     lunch  \\\n",
              "0    male        group B                some college  standard   \n",
              "1    male        group D           bachelor's degree  standard   \n",
              "2  female        group D          associate's degree  standard   \n",
              "3    male        group B                 high school  standard   \n",
              "4    male        group C                some college  standard   \n",
              "\n",
              "  test preparation course   group  math score  reading score  writing score  \\\n",
              "0                    none  group2          72             72             74   \n",
              "1               completed  group2          69             90             88   \n",
              "2                    none  group2          90             95             93   \n",
              "3               completed  group2          47             57             44   \n",
              "4               completed  group2          76             78             75   \n",
              "\n",
              "   mean Math_PassStatus OverAll_PassStatus Grade  \n",
              "0  72.0               P                  P     C  \n",
              "1  79.5               P                  P     C  \n",
              "2  92.5               P                  P     A  \n",
              "3  52.0               F                  F     E  \n",
              "4  77.0               P                  P     C  "
            ],
            "text/html": [
              "\n",
              "  <div id=\"df-bd17862c-c134-4e36-ad0b-7dfb45e3433c\" class=\"colab-df-container\">\n",
              "    <div>\n",
              "<style scoped>\n",
              "    .dataframe tbody tr th:only-of-type {\n",
              "        vertical-align: middle;\n",
              "    }\n",
              "\n",
              "    .dataframe tbody tr th {\n",
              "        vertical-align: top;\n",
              "    }\n",
              "\n",
              "    .dataframe thead th {\n",
              "        text-align: right;\n",
              "    }\n",
              "</style>\n",
              "<table border=\"1\" class=\"dataframe\">\n",
              "  <thead>\n",
              "    <tr style=\"text-align: right;\">\n",
              "      <th></th>\n",
              "      <th>gender</th>\n",
              "      <th>race/ethnicity</th>\n",
              "      <th>parental level of education</th>\n",
              "      <th>lunch</th>\n",
              "      <th>test preparation course</th>\n",
              "      <th>group</th>\n",
              "      <th>math score</th>\n",
              "      <th>reading score</th>\n",
              "      <th>writing score</th>\n",
              "      <th>mean</th>\n",
              "      <th>Math_PassStatus</th>\n",
              "      <th>OverAll_PassStatus</th>\n",
              "      <th>Grade</th>\n",
              "    </tr>\n",
              "  </thead>\n",
              "  <tbody>\n",
              "    <tr>\n",
              "      <th>0</th>\n",
              "      <td>male</td>\n",
              "      <td>group B</td>\n",
              "      <td>some college</td>\n",
              "      <td>standard</td>\n",
              "      <td>none</td>\n",
              "      <td>group2</td>\n",
              "      <td>72</td>\n",
              "      <td>72</td>\n",
              "      <td>74</td>\n",
              "      <td>72.0</td>\n",
              "      <td>P</td>\n",
              "      <td>P</td>\n",
              "      <td>C</td>\n",
              "    </tr>\n",
              "    <tr>\n",
              "      <th>1</th>\n",
              "      <td>male</td>\n",
              "      <td>group D</td>\n",
              "      <td>bachelor's degree</td>\n",
              "      <td>standard</td>\n",
              "      <td>completed</td>\n",
              "      <td>group2</td>\n",
              "      <td>69</td>\n",
              "      <td>90</td>\n",
              "      <td>88</td>\n",
              "      <td>79.5</td>\n",
              "      <td>P</td>\n",
              "      <td>P</td>\n",
              "      <td>C</td>\n",
              "    </tr>\n",
              "    <tr>\n",
              "      <th>2</th>\n",
              "      <td>female</td>\n",
              "      <td>group D</td>\n",
              "      <td>associate's degree</td>\n",
              "      <td>standard</td>\n",
              "      <td>none</td>\n",
              "      <td>group2</td>\n",
              "      <td>90</td>\n",
              "      <td>95</td>\n",
              "      <td>93</td>\n",
              "      <td>92.5</td>\n",
              "      <td>P</td>\n",
              "      <td>P</td>\n",
              "      <td>A</td>\n",
              "    </tr>\n",
              "    <tr>\n",
              "      <th>3</th>\n",
              "      <td>male</td>\n",
              "      <td>group B</td>\n",
              "      <td>high school</td>\n",
              "      <td>standard</td>\n",
              "      <td>completed</td>\n",
              "      <td>group2</td>\n",
              "      <td>47</td>\n",
              "      <td>57</td>\n",
              "      <td>44</td>\n",
              "      <td>52.0</td>\n",
              "      <td>F</td>\n",
              "      <td>F</td>\n",
              "      <td>E</td>\n",
              "    </tr>\n",
              "    <tr>\n",
              "      <th>4</th>\n",
              "      <td>male</td>\n",
              "      <td>group C</td>\n",
              "      <td>some college</td>\n",
              "      <td>standard</td>\n",
              "      <td>completed</td>\n",
              "      <td>group2</td>\n",
              "      <td>76</td>\n",
              "      <td>78</td>\n",
              "      <td>75</td>\n",
              "      <td>77.0</td>\n",
              "      <td>P</td>\n",
              "      <td>P</td>\n",
              "      <td>C</td>\n",
              "    </tr>\n",
              "  </tbody>\n",
              "</table>\n",
              "</div>\n",
              "    <div class=\"colab-df-buttons\">\n",
              "\n",
              "  <div class=\"colab-df-container\">\n",
              "    <button class=\"colab-df-convert\" onclick=\"convertToInteractive('df-bd17862c-c134-4e36-ad0b-7dfb45e3433c')\"\n",
              "            title=\"Convert this dataframe to an interactive table.\"\n",
              "            style=\"display:none;\">\n",
              "\n",
              "  <svg xmlns=\"http://www.w3.org/2000/svg\" height=\"24px\" viewBox=\"0 -960 960 960\">\n",
              "    <path d=\"M120-120v-720h720v720H120Zm60-500h600v-160H180v160Zm220 220h160v-160H400v160Zm0 220h160v-160H400v160ZM180-400h160v-160H180v160Zm440 0h160v-160H620v160ZM180-180h160v-160H180v160Zm440 0h160v-160H620v160Z\"/>\n",
              "  </svg>\n",
              "    </button>\n",
              "\n",
              "  <style>\n",
              "    .colab-df-container {\n",
              "      display:flex;\n",
              "      gap: 12px;\n",
              "    }\n",
              "\n",
              "    .colab-df-convert {\n",
              "      background-color: #E8F0FE;\n",
              "      border: none;\n",
              "      border-radius: 50%;\n",
              "      cursor: pointer;\n",
              "      display: none;\n",
              "      fill: #1967D2;\n",
              "      height: 32px;\n",
              "      padding: 0 0 0 0;\n",
              "      width: 32px;\n",
              "    }\n",
              "\n",
              "    .colab-df-convert:hover {\n",
              "      background-color: #E2EBFA;\n",
              "      box-shadow: 0px 1px 2px rgba(60, 64, 67, 0.3), 0px 1px 3px 1px rgba(60, 64, 67, 0.15);\n",
              "      fill: #174EA6;\n",
              "    }\n",
              "\n",
              "    .colab-df-buttons div {\n",
              "      margin-bottom: 4px;\n",
              "    }\n",
              "\n",
              "    [theme=dark] .colab-df-convert {\n",
              "      background-color: #3B4455;\n",
              "      fill: #D2E3FC;\n",
              "    }\n",
              "\n",
              "    [theme=dark] .colab-df-convert:hover {\n",
              "      background-color: #434B5C;\n",
              "      box-shadow: 0px 1px 3px 1px rgba(0, 0, 0, 0.15);\n",
              "      filter: drop-shadow(0px 1px 2px rgba(0, 0, 0, 0.3));\n",
              "      fill: #FFFFFF;\n",
              "    }\n",
              "  </style>\n",
              "\n",
              "    <script>\n",
              "      const buttonEl =\n",
              "        document.querySelector('#df-bd17862c-c134-4e36-ad0b-7dfb45e3433c button.colab-df-convert');\n",
              "      buttonEl.style.display =\n",
              "        google.colab.kernel.accessAllowed ? 'block' : 'none';\n",
              "\n",
              "      async function convertToInteractive(key) {\n",
              "        const element = document.querySelector('#df-bd17862c-c134-4e36-ad0b-7dfb45e3433c');\n",
              "        const dataTable =\n",
              "          await google.colab.kernel.invokeFunction('convertToInteractive',\n",
              "                                                    [key], {});\n",
              "        if (!dataTable) return;\n",
              "\n",
              "        const docLinkHtml = 'Like what you see? Visit the ' +\n",
              "          '<a target=\"_blank\" href=https://colab.research.google.com/notebooks/data_table.ipynb>data table notebook</a>'\n",
              "          + ' to learn more about interactive tables.';\n",
              "        element.innerHTML = '';\n",
              "        dataTable['output_type'] = 'display_data';\n",
              "        await google.colab.output.renderOutput(dataTable, element);\n",
              "        const docLink = document.createElement('div');\n",
              "        docLink.innerHTML = docLinkHtml;\n",
              "        element.appendChild(docLink);\n",
              "      }\n",
              "    </script>\n",
              "  </div>\n",
              "\n",
              "\n",
              "<div id=\"df-62e8d09e-67b8-440d-a21a-d0481f7e1ca0\">\n",
              "  <button class=\"colab-df-quickchart\" onclick=\"quickchart('df-62e8d09e-67b8-440d-a21a-d0481f7e1ca0')\"\n",
              "            title=\"Suggest charts\"\n",
              "            style=\"display:none;\">\n",
              "\n",
              "<svg xmlns=\"http://www.w3.org/2000/svg\" height=\"24px\"viewBox=\"0 0 24 24\"\n",
              "     width=\"24px\">\n",
              "    <g>\n",
              "        <path d=\"M19 3H5c-1.1 0-2 .9-2 2v14c0 1.1.9 2 2 2h14c1.1 0 2-.9 2-2V5c0-1.1-.9-2-2-2zM9 17H7v-7h2v7zm4 0h-2V7h2v10zm4 0h-2v-4h2v4z\"/>\n",
              "    </g>\n",
              "</svg>\n",
              "  </button>\n",
              "\n",
              "<style>\n",
              "  .colab-df-quickchart {\n",
              "      --bg-color: #E8F0FE;\n",
              "      --fill-color: #1967D2;\n",
              "      --hover-bg-color: #E2EBFA;\n",
              "      --hover-fill-color: #174EA6;\n",
              "      --disabled-fill-color: #AAA;\n",
              "      --disabled-bg-color: #DDD;\n",
              "  }\n",
              "\n",
              "  [theme=dark] .colab-df-quickchart {\n",
              "      --bg-color: #3B4455;\n",
              "      --fill-color: #D2E3FC;\n",
              "      --hover-bg-color: #434B5C;\n",
              "      --hover-fill-color: #FFFFFF;\n",
              "      --disabled-bg-color: #3B4455;\n",
              "      --disabled-fill-color: #666;\n",
              "  }\n",
              "\n",
              "  .colab-df-quickchart {\n",
              "    background-color: var(--bg-color);\n",
              "    border: none;\n",
              "    border-radius: 50%;\n",
              "    cursor: pointer;\n",
              "    display: none;\n",
              "    fill: var(--fill-color);\n",
              "    height: 32px;\n",
              "    padding: 0;\n",
              "    width: 32px;\n",
              "  }\n",
              "\n",
              "  .colab-df-quickchart:hover {\n",
              "    background-color: var(--hover-bg-color);\n",
              "    box-shadow: 0 1px 2px rgba(60, 64, 67, 0.3), 0 1px 3px 1px rgba(60, 64, 67, 0.15);\n",
              "    fill: var(--button-hover-fill-color);\n",
              "  }\n",
              "\n",
              "  .colab-df-quickchart-complete:disabled,\n",
              "  .colab-df-quickchart-complete:disabled:hover {\n",
              "    background-color: var(--disabled-bg-color);\n",
              "    fill: var(--disabled-fill-color);\n",
              "    box-shadow: none;\n",
              "  }\n",
              "\n",
              "  .colab-df-spinner {\n",
              "    border: 2px solid var(--fill-color);\n",
              "    border-color: transparent;\n",
              "    border-bottom-color: var(--fill-color);\n",
              "    animation:\n",
              "      spin 1s steps(1) infinite;\n",
              "  }\n",
              "\n",
              "  @keyframes spin {\n",
              "    0% {\n",
              "      border-color: transparent;\n",
              "      border-bottom-color: var(--fill-color);\n",
              "      border-left-color: var(--fill-color);\n",
              "    }\n",
              "    20% {\n",
              "      border-color: transparent;\n",
              "      border-left-color: var(--fill-color);\n",
              "      border-top-color: var(--fill-color);\n",
              "    }\n",
              "    30% {\n",
              "      border-color: transparent;\n",
              "      border-left-color: var(--fill-color);\n",
              "      border-top-color: var(--fill-color);\n",
              "      border-right-color: var(--fill-color);\n",
              "    }\n",
              "    40% {\n",
              "      border-color: transparent;\n",
              "      border-right-color: var(--fill-color);\n",
              "      border-top-color: var(--fill-color);\n",
              "    }\n",
              "    60% {\n",
              "      border-color: transparent;\n",
              "      border-right-color: var(--fill-color);\n",
              "    }\n",
              "    80% {\n",
              "      border-color: transparent;\n",
              "      border-right-color: var(--fill-color);\n",
              "      border-bottom-color: var(--fill-color);\n",
              "    }\n",
              "    90% {\n",
              "      border-color: transparent;\n",
              "      border-bottom-color: var(--fill-color);\n",
              "    }\n",
              "  }\n",
              "</style>\n",
              "\n",
              "  <script>\n",
              "    async function quickchart(key) {\n",
              "      const quickchartButtonEl =\n",
              "        document.querySelector('#' + key + ' button');\n",
              "      quickchartButtonEl.disabled = true;  // To prevent multiple clicks.\n",
              "      quickchartButtonEl.classList.add('colab-df-spinner');\n",
              "      try {\n",
              "        const charts = await google.colab.kernel.invokeFunction(\n",
              "            'suggestCharts', [key], {});\n",
              "      } catch (error) {\n",
              "        console.error('Error during call to suggestCharts:', error);\n",
              "      }\n",
              "      quickchartButtonEl.classList.remove('colab-df-spinner');\n",
              "      quickchartButtonEl.classList.add('colab-df-quickchart-complete');\n",
              "    }\n",
              "    (() => {\n",
              "      let quickchartButtonEl =\n",
              "        document.querySelector('#df-62e8d09e-67b8-440d-a21a-d0481f7e1ca0 button');\n",
              "      quickchartButtonEl.style.display =\n",
              "        google.colab.kernel.accessAllowed ? 'block' : 'none';\n",
              "    })();\n",
              "  </script>\n",
              "</div>\n",
              "    </div>\n",
              "  </div>\n"
            ]
          },
          "metadata": {},
          "execution_count": 178
        }
      ],
      "source": [
        "\n",
        "def GetGrade(average_mark):\n",
        "\n",
        "    if (100 >= average_mark > 90): return 'A'\n",
        "    elif (90 >= average_mark > 80): return 'B'\n",
        "    elif (80 >= average_mark > 70): return 'C'\n",
        "    elif (70 >= average_mark > 60): return 'D'\n",
        "    elif (60 >= average_mark > 50): return 'E'\n",
        "    else: return 'F'\n",
        "\n",
        "i = 0\n",
        "grades = []\n",
        "while i < len (df['gender']):\n",
        "  grades.append (GetGrade(int(df.iloc[i]['mean'])))\n",
        "  i+=1\n",
        "\n",
        "df['Grade'] = grades\n",
        "\n",
        "\n",
        "print (df['Grade'].value_counts())\n",
        "\n",
        "df.head ()"
      ]
    },
    {
      "cell_type": "markdown",
      "id": "0b5755de-f247-454d-9fe4-e3060ea478a6",
      "metadata": {
        "id": "0b5755de-f247-454d-9fe4-e3060ea478a6"
      },
      "source": [
        "### Часть 3. NumPy"
      ]
    },
    {
      "cell_type": "markdown",
      "id": "95378c14-fab4-4efa-b056-5d14627f163e",
      "metadata": {
        "id": "95378c14-fab4-4efa-b056-5d14627f163e"
      },
      "source": [
        "Во всех задачах необходимо написать код решения внутри функции и убедиться, что она работает, с помощью [assert](https://python-reference.readthedocs.io/en/latest/docs/statements/assert.html) на выражение с использованием этой функции для данных из условия.\n",
        "\n",
        "При решении задач запрещается использовать циклы (`for`, `while`) и оператор `if`.\n",
        "\n",
        "Везде, где встречаются массивы или матрицы, подразумевается, что это `numpy.array`.\n",
        "\n",
        "**numpy reference:** https://numpy.org/doc/stable/reference/index.html"
      ]
    },
    {
      "cell_type": "code",
      "execution_count": null,
      "id": "ca58c538-baad-4978-a9cb-27250f918b05",
      "metadata": {
        "pycharm": {
          "name": "#%%\n"
        },
        "id": "ca58c538-baad-4978-a9cb-27250f918b05"
      },
      "outputs": [],
      "source": [
        "import numpy as np"
      ]
    },
    {
      "cell_type": "markdown",
      "id": "8031a467-af7f-4d87-a6d3-5877888db1b2",
      "metadata": {
        "id": "8031a467-af7f-4d87-a6d3-5877888db1b2"
      },
      "source": [
        "### Задание 1"
      ]
    },
    {
      "cell_type": "markdown",
      "id": "2bd7996f-42eb-45f4-8707-d2c59e1375e8",
      "metadata": {
        "id": "2bd7996f-42eb-45f4-8707-d2c59e1375e8"
      },
      "source": [
        "Напишите функцию, возвращающую округленную взвешенную сумму оценок по данным оценкам и весам. Можете посчитать свою оценку за курс :) В нашем случае вес экзамена равен 0.3, вес домашек - 0.4, вес контрольной - 0.2, вес самостоятельных - 0.1. Например, если за экзамен у вас 7, за домашки 10, за контрольную 8, а за самостоятельные 6, то вы получите отличную оценку 8!"
      ]
    },
    {
      "cell_type": "code",
      "execution_count": null,
      "id": "9d3ec729-6780-4103-bd45-2410653a0876",
      "metadata": {
        "pycharm": {
          "name": "#%%\n"
        },
        "id": "9d3ec729-6780-4103-bd45-2410653a0876"
      },
      "outputs": [],
      "source": [
        "def result_mark(weights: np.array, marks: np.array) -> int:\n",
        "    x = np.average (marks, axis=0, weights=weights)\n",
        "    x = np.round (x)\n",
        "    return x"
      ]
    },
    {
      "cell_type": "code",
      "execution_count": null,
      "id": "4e86e51c-e7c9-4626-88b1-c06a2d9ebdb7",
      "metadata": {
        "pycharm": {
          "name": "#%%\n"
        },
        "id": "4e86e51c-e7c9-4626-88b1-c06a2d9ebdb7",
        "colab": {
          "base_uri": "https://localhost:8080/"
        },
        "outputId": "546041ea-c9da-424b-e3eb-6037ed57fc4a"
      },
      "outputs": [
        {
          "output_type": "execute_result",
          "data": {
            "text/plain": [
              "8.0"
            ]
          },
          "metadata": {},
          "execution_count": 10
        }
      ],
      "source": [
        "weights = np.array([0.3, 0.4, 0.2, 0.1])\n",
        "marks = np.array([7, 10, 8, 6])\n",
        "\n",
        "result_mark(weights, marks)"
      ]
    },
    {
      "cell_type": "code",
      "execution_count": null,
      "id": "72b02aec-bb20-4373-b49f-78f7af517fb9",
      "metadata": {
        "pycharm": {
          "name": "#%%\n"
        },
        "id": "72b02aec-bb20-4373-b49f-78f7af517fb9",
        "colab": {
          "base_uri": "https://localhost:8080/"
        },
        "outputId": "5fb271ec-b8c7-415a-ed59-089749512199"
      },
      "outputs": [
        {
          "output_type": "execute_result",
          "data": {
            "text/plain": [
              "4.0"
            ]
          },
          "metadata": {},
          "execution_count": 11
        }
      ],
      "source": [
        "weights = np.array([0.3, 0.4, 0.2, 0.1])\n",
        "marks = np.array([7, 0, 8, 6])\n",
        "\n",
        "result_mark(weights, marks)"
      ]
    },
    {
      "cell_type": "markdown",
      "id": "b3126f26-f7d0-4530-bb1b-71df35d16de5",
      "metadata": {
        "id": "b3126f26-f7d0-4530-bb1b-71df35d16de5"
      },
      "source": [
        "### Задание 2"
      ]
    },
    {
      "cell_type": "markdown",
      "id": "30c8075e-4e0a-4d73-b3c4-173a4263cec5",
      "metadata": {
        "id": "30c8075e-4e0a-4d73-b3c4-173a4263cec5"
      },
      "source": [
        "Напишите функцию, меняющую каждое третье (начиная с 0) значение массива целых чисел на заданное число. Например, если на вход поступает массив `array([3, 5, 1, 0, -3, 22, 213436])` и число `-111`, то на выходе должен получиться массив `array([-111, 5, 1, -111, -3, 22, -111])`."
      ]
    },
    {
      "cell_type": "code",
      "execution_count": null,
      "id": "b78223e1-5ddf-4aa9-b385-a2f2887f7822",
      "metadata": {
        "pycharm": {
          "name": "#%%\n"
        },
        "id": "b78223e1-5ddf-4aa9-b385-a2f2887f7822",
        "colab": {
          "base_uri": "https://localhost:8080/"
        },
        "outputId": "fbae4098-0534-4940-be9d-a89e6a10c860"
      },
      "outputs": [
        {
          "output_type": "execute_result",
          "data": {
            "text/plain": [
              "array([-111,    5,    1, -111,   -3,   22, -111])"
            ]
          },
          "metadata": {},
          "execution_count": 25
        }
      ],
      "source": [
        "def change_array(array: np.array, number: int) -> np.array:\n",
        "    for i in range (len(array)):\n",
        "      if i % 3 == 0:\n",
        "        array[i] = number\n",
        "\n",
        "    array[0] = number\n",
        "    return array\n",
        "\n",
        "array = np.array([3, 5, 1, 0, -3, 22, 213436])\n",
        "number = -111\n",
        "\n",
        "change_array(array, number)"
      ]
    },
    {
      "cell_type": "code",
      "execution_count": null,
      "id": "ec3a4f50-45a4-4fc3-9c18-e051805da307",
      "metadata": {
        "pycharm": {
          "name": "#%%\n"
        },
        "id": "ec3a4f50-45a4-4fc3-9c18-e051805da307"
      },
      "outputs": [],
      "source": [
        "array = np.array([3, 5, 1, 0, -3, 22, 213436])\n",
        "number = -111\n",
        "\n",
        "assert np.allclose(change_array(array, number), np.array([-111, 5, 1, -111, -3, 22, -111]))"
      ]
    },
    {
      "cell_type": "code",
      "execution_count": null,
      "id": "8bd073da-18d1-4066-96aa-2cf66c33a98e",
      "metadata": {
        "pycharm": {
          "name": "#%%\n"
        },
        "id": "8bd073da-18d1-4066-96aa-2cf66c33a98e"
      },
      "outputs": [],
      "source": [
        "array = np.array([3, 14, 15, 92, 6])\n",
        "number = 8\n",
        "\n",
        "assert np.allclose(change_array(array, number), np.array([8, 14, 15, 8, 6]))"
      ]
    },
    {
      "cell_type": "markdown",
      "id": "da4eab45-2f14-4f6f-bb05-99d8fef33a0a",
      "metadata": {
        "id": "da4eab45-2f14-4f6f-bb05-99d8fef33a0a"
      },
      "source": [
        "### Задание 3"
      ]
    },
    {
      "cell_type": "markdown",
      "id": "eb6a46e2-315e-4e97-ac18-b37c7f8e322a",
      "metadata": {
        "id": "eb6a46e2-315e-4e97-ac18-b37c7f8e322a"
      },
      "source": [
        "Напишите функцию, выдающую индексы «близких» элементов заданных массивов, а именно тех пар элементов, чей модуль разницы не превосходит заданного значения. Например, если на вход поступают массив `array([1.5, 0.5, 2, -4.1, -3, 6, -1])`, массив `array([1.2, 0.5, 1, -4, 3, 0, -1.2])` и число `0.5`, то на выходе должен получиться массив `array([0, 1, 3, 6])` (**важно: не `tuple`, а одномерный массив типа `numpy.ndarray` (то есть `.ndim` от него равно 1)!**)."
      ]
    },
    {
      "cell_type": "code",
      "execution_count": 70,
      "id": "1a9bd618-6d53-4a53-83d8-b371c9452783",
      "metadata": {
        "pycharm": {
          "name": "#%%\n"
        },
        "id": "1a9bd618-6d53-4a53-83d8-b371c9452783",
        "colab": {
          "base_uri": "https://localhost:8080/"
        },
        "outputId": "b7a581fe-4eeb-4c2b-d0fb-c3bec5601093"
      },
      "outputs": [
        {
          "output_type": "execute_result",
          "data": {
            "text/plain": [
              "[0, 1, 3, 6]"
            ]
          },
          "metadata": {},
          "execution_count": 70
        }
      ],
      "source": [
        "def find_close(array1: np.array, array2: np.array,\n",
        "               precision: float) -> np.array:\n",
        "    x = abs(array1 - array2) <= 0.5\n",
        "    x = list(x)\n",
        "    y = []\n",
        "    for i in range (len(x)):\n",
        "      if x[i] == True:\n",
        "        y.append (i)\n",
        "    return y\n",
        "\n",
        "\n",
        "\n",
        "array1 = np.array([1.5, 0.5, 2, -4.1, -3, 6, -1])\n",
        "array2 = np.array([1.2, 0.5, 1, -4.0,  3, 0, -1.2])\n",
        "precision = 0.5\n",
        "find_close(array1, array2, precision)"
      ]
    },
    {
      "cell_type": "code",
      "execution_count": null,
      "id": "2c82a278-c59f-4541-8269-f033f029a1ae",
      "metadata": {
        "pycharm": {
          "name": "#%%\n"
        },
        "id": "2c82a278-c59f-4541-8269-f033f029a1ae"
      },
      "outputs": [],
      "source": [
        "array1 = np.array([1.5, 0.5, 2, -4.1, -3, 6, -1])\n",
        "array2 = np.array([1.2, 0.5, 1, -4.0,  3, 0, -1.2])\n",
        "precision = 0.5\n",
        "res = find_close(array1, array2, precision)\n",
        "\n",
        "assert res.ndim == 1\n",
        "assert np.allclose(res, np.array([0, 1, 3, 6]))"
      ]
    },
    {
      "cell_type": "code",
      "execution_count": null,
      "id": "cfd85825-fdf4-410e-8196-46fb0baac354",
      "metadata": {
        "pycharm": {
          "name": "#%%\n"
        },
        "id": "cfd85825-fdf4-410e-8196-46fb0baac354"
      },
      "outputs": [],
      "source": [
        "array1 = np.array([3.1415, 2.7182, 1.6180, 6.6261])\n",
        "array2 = np.array([6.6730, 1.3807, -1,     6.0222])\n",
        "precision = 1.7\n",
        "res = find_close(array1, array2, precision)\n",
        "\n",
        "assert res.ndim == 1\n",
        "assert np.allclose(res, np.array([1, 3]))"
      ]
    },
    {
      "cell_type": "markdown",
      "id": "bebdc4ff-c52b-4724-8067-e4223612b27c",
      "metadata": {
        "id": "bebdc4ff-c52b-4724-8067-e4223612b27c"
      },
      "source": [
        "### Задание 4"
      ]
    },
    {
      "cell_type": "markdown",
      "id": "bd4c9f4a-dd19-4874-83c1-39d3babfa5d0",
      "metadata": {
        "id": "bd4c9f4a-dd19-4874-83c1-39d3babfa5d0"
      },
      "source": [
        "Напишите функцию, которая составляет блочную матрицу из четырех блоков, где каждый блок - это заданная матрица. Например, если на вход поступает матрица\n",
        "$$\n",
        "\\begin{pmatrix}\n",
        "0 & 1 & 2\\\\\n",
        "3 & 4 & 5\\\\\n",
        "\\end{pmatrix},\n",
        "$$\n",
        "то ответом будет матрица\n",
        "$$\n",
        "\\begin{pmatrix}\n",
        "0 & 1 & 2 & 0 & 1 & 2\\\\\n",
        "3 & 4 & 5 & 3 & 4 & 5\\\\\n",
        "0 & 1 & 2 & 0 & 1 & 2\\\\\n",
        "3 & 4 & 5 & 3 & 4 & 5\\\\\n",
        "\\end{pmatrix}\n",
        "$$"
      ]
    },
    {
      "cell_type": "code",
      "execution_count": null,
      "id": "c93c025f-5028-4bd3-bc79-d92081cdfc63",
      "metadata": {
        "pycharm": {
          "name": "#%%\n"
        },
        "id": "c93c025f-5028-4bd3-bc79-d92081cdfc63",
        "colab": {
          "base_uri": "https://localhost:8080/"
        },
        "outputId": "f43c09cc-24ae-401e-ab4a-9fe8bde8d52e"
      },
      "outputs": [
        {
          "output_type": "execute_result",
          "data": {
            "text/plain": [
              "array([[0, 1, 2, 0, 1, 2],\n",
              "       [3, 4, 5, 3, 4, 5],\n",
              "       [0, 1, 2, 0, 1, 2],\n",
              "       [3, 4, 5, 3, 4, 5]])"
            ]
          },
          "metadata": {},
          "execution_count": 14
        }
      ],
      "source": [
        "def block_matrix(block: np.array) -> np.array:\n",
        "    x = np.concatenate ((block, block), axis = 0)\n",
        "    x = np.concatenate ((x,x), axis = 1)\n",
        "    return x\n",
        "\n",
        "lets_see = np.array([[0, 1, 2], [3, 4, 5]])\n",
        "\n",
        "block_matrix (lets_see)"
      ]
    },
    {
      "cell_type": "code",
      "execution_count": null,
      "id": "613ffe57-69de-4e95-b1cf-1f32a4759781",
      "metadata": {
        "pycharm": {
          "name": "#%%\n"
        },
        "id": "613ffe57-69de-4e95-b1cf-1f32a4759781"
      },
      "outputs": [],
      "source": [
        "block = np.array([[1, 3, 3], [7, 0, 0]])\n",
        "\n",
        "assert np.allclose(\n",
        "    block_matrix(block),\n",
        "    np.array([[1, 3, 3, 1, 3, 3],\n",
        "              [7, 0, 0, 7, 0, 0],\n",
        "              [1, 3, 3, 1, 3, 3],\n",
        "              [7, 0, 0, 7, 0, 0]])\n",
        ")"
      ]
    },
    {
      "cell_type": "markdown",
      "id": "2a0fa823-12cf-46f9-ab12-122a00a6af80",
      "metadata": {
        "id": "2a0fa823-12cf-46f9-ab12-122a00a6af80"
      },
      "source": [
        "### Задание 5"
      ]
    },
    {
      "cell_type": "markdown",
      "id": "94bfd78a-b831-4431-83ca-b5a551ec2cd1",
      "metadata": {
        "id": "94bfd78a-b831-4431-83ca-b5a551ec2cd1"
      },
      "source": [
        "Напишите функцию, вычисляющую произведение всех ненулевых диагональных элементов на диагонали данной квадратной матрицы. Например, если на вход поступает матрица\n",
        "$$\n",
        "\\begin{pmatrix}\n",
        "0 & 1 & 2\\\\\n",
        "3 & 4 & 5\\\\\n",
        "6 & 7 & 8\\\\\n",
        "\\end{pmatrix},\n",
        "$$\n",
        "то ответом будет 32.\n",
        "\n",
        "Элементы матрицы считать целочисленными."
      ]
    },
    {
      "cell_type": "code",
      "execution_count": null,
      "id": "1a1ad4a6-23b2-4262-a31d-7b4d54d4ebaf",
      "metadata": {
        "pycharm": {
          "name": "#%%\n"
        },
        "id": "1a1ad4a6-23b2-4262-a31d-7b4d54d4ebaf",
        "colab": {
          "base_uri": "https://localhost:8080/"
        },
        "outputId": "debf2e40-a191-435c-af4a-88f1a900c2dd"
      },
      "outputs": [
        {
          "output_type": "execute_result",
          "data": {
            "text/plain": [
              "750"
            ]
          },
          "metadata": {},
          "execution_count": 24
        }
      ],
      "source": [
        "def diag_prod(matrix: np.array) -> int:\n",
        "\n",
        "    a = list(matrix.diagonal ())\n",
        "    x = 1\n",
        "    for i in range(len (a)):\n",
        "        if a[i] != 0:\n",
        "          x = x * a[i]\n",
        "    return x\n",
        "\n",
        "matrix = np.array([[0, 1, 2, 3],\n",
        "                   [4, 5, 6, 7],\n",
        "                   [8, 9, 10, 11],\n",
        "                   [12, 13, 14, 15]])\n",
        "\n",
        "diag_prod(matrix)"
      ]
    },
    {
      "cell_type": "code",
      "execution_count": null,
      "id": "c3dd8f5d-7ece-4324-b0ed-42b3062e9c4b",
      "metadata": {
        "pycharm": {
          "name": "#%%\n"
        },
        "id": "c3dd8f5d-7ece-4324-b0ed-42b3062e9c4b"
      },
      "outputs": [],
      "source": [
        "matrix = np.array([[0, 1, 2, 3],\n",
        "                   [4, 5, 6, 7],\n",
        "                   [8, 9, 10, 11],\n",
        "                   [12, 13, 14, 15]])\n",
        "\n",
        "assert diag_prod(matrix) == 750"
      ]
    },
    {
      "cell_type": "markdown",
      "id": "2311f2eb-278c-49b2-949c-3dfabd13226b",
      "metadata": {
        "id": "2311f2eb-278c-49b2-949c-3dfabd13226b"
      },
      "source": [
        "### Задание 6"
      ]
    },
    {
      "cell_type": "markdown",
      "id": "01af6525-7405-4d79-9141-387a4279f309",
      "metadata": {
        "id": "01af6525-7405-4d79-9141-387a4279f309"
      },
      "source": [
        "Для улучшения качества работы некоторых алгоритмов машинного обучения может быть полезно использовать [нормализацию данных](https://vk.cc/8xmfQk), чтобы привести признаки в выборке к одному масштабу — а именно, из каждого столбца вычесть среднее его значений и поделить на их стандартное отклонение. Напишите функцию, нормализующую входящую матрицу (по столбцам). Например, если на вход подается матрица\n",
        "$$\n",
        "\\begin{pmatrix}\n",
        "1 & 4 & 4200\\\\\n",
        "0 & 10 & 5000\\\\\n",
        "1 & 2 & 1000\\\\\n",
        "\\end{pmatrix},\n",
        "$$\n",
        "то результатом с точностью до сотых будет матрица\n",
        "$$\n",
        "\\begin{pmatrix}\n",
        "0.71 & -0.39 & 0.46\\\\\n",
        "-1.41 & 1.37 & 0.93\\\\\n",
        "0.71 & -0.98 & -1.39\\\\\n",
        "\\end{pmatrix}\n",
        "$$\n",
        "\n",
        "Учтите, что в вашем матрице не должно получаться никаких nan. Подумайте, в каком случае они могут возникнуть и как обойти эту проблему.\n",
        "\n",
        "_Подсказка. Казалось бы, при чем тут деление на ноль._"
      ]
    },
    {
      "cell_type": "code",
      "execution_count": 44,
      "id": "b65bc093-f69e-48f1-9c57-cb49b4373ba7",
      "metadata": {
        "pycharm": {
          "name": "#%%\n"
        },
        "id": "b65bc093-f69e-48f1-9c57-cb49b4373ba7",
        "colab": {
          "base_uri": "https://localhost:8080/"
        },
        "outputId": "57be41e3-6718-41a5-833f-ce9869ec0067"
      },
      "outputs": [
        {
          "output_type": "execute_result",
          "data": {
            "text/plain": [
              "array([[ 0.71, -0.39,  0.46],\n",
              "       [-1.41,  1.37,  0.93],\n",
              "       [ 0.71, -0.98, -1.39]])"
            ]
          },
          "metadata": {},
          "execution_count": 44
        }
      ],
      "source": [
        "def normalize(matrix: np.array) -> np.array:\n",
        "\n",
        "  scaled = (matrix - np.mean (matrix, axis=0)) / np.std (matrix, axis=0)\n",
        "\n",
        "  scaled = np.round (scaled, 2)\n",
        "\n",
        "  return scaled\n",
        "\n",
        "matrix = np.array([[1, 4, 4200], [0, 10, 5000], [1, 2, 1000]])\n",
        "normalize (matrix)"
      ]
    },
    {
      "cell_type": "code",
      "execution_count": null,
      "id": "0f7d406d-b80f-496b-b22b-4e09636fcff7",
      "metadata": {
        "pycharm": {
          "name": "#%%\n"
        },
        "id": "0f7d406d-b80f-496b-b22b-4e09636fcff7"
      },
      "outputs": [],
      "source": [
        "matrix = np.array([[1, 4, 4200], [0, 10, 5000], [1, 2, 1000]])\n",
        "\n",
        "assert np.allclose(\n",
        "    normalize(matrix),\n",
        "    np.array([[ 0.7071, -0.39223,  0.46291],\n",
        "              [-1.4142,  1.37281,  0.92582],\n",
        "              [ 0.7071, -0.98058, -1.38873]])\n",
        ")"
      ]
    },
    {
      "cell_type": "code",
      "execution_count": null,
      "id": "ab04b371-7d23-4668-8a44-e8b6e7db232e",
      "metadata": {
        "pycharm": {
          "name": "#%%\n"
        },
        "id": "ab04b371-7d23-4668-8a44-e8b6e7db232e"
      },
      "outputs": [],
      "source": [
        "matrix = np.array([[-7, 2, 42], [2, 10, 50], [5, 4, 10]])\n",
        "\n",
        "assert np.allclose(\n",
        "    normalize(matrix),\n",
        "    np.array([[-1.37281, -0.98058,  0.46291],\n",
        "              [ 0.39223,  1.37281,  0.92582],\n",
        "              [ 0.98058, -0.39223, -1.38873]])\n",
        ")"
      ]
    },
    {
      "cell_type": "markdown",
      "id": "faf15e6b-1e52-4840-a641-22dff0cdd38c",
      "metadata": {
        "id": "faf15e6b-1e52-4840-a641-22dff0cdd38c"
      },
      "source": [
        "### Задание 7"
      ]
    },
    {
      "cell_type": "markdown",
      "id": "4480ed2d-48a4-4fae-b008-ca3bf67be254",
      "metadata": {
        "id": "4480ed2d-48a4-4fae-b008-ca3bf67be254"
      },
      "source": [
        "Напишите функцию, вычисляющую какую-нибудь первообразную данного полинома (в качестве константы возьмите $0$). Например, если на вход поступает массив коэффициентов `array([4, 6, 0, 1])`, что соответствует полиному $4x^3 + 6x^2 + 1$, на выходе получается массив коэффициентов `array([1, 2, 0, 1, -2])`, соответствующий полиному $x^4 + 2x^3 + x - 2$."
      ]
    },
    {
      "cell_type": "code",
      "execution_count": 50,
      "id": "159eaddd-95ce-4ddd-aaca-fcf9312489ab",
      "metadata": {
        "pycharm": {
          "name": "#%%\n"
        },
        "id": "159eaddd-95ce-4ddd-aaca-fcf9312489ab",
        "colab": {
          "base_uri": "https://localhost:8080/"
        },
        "outputId": "476aa608-ac66-4c4f-fb59-1f422b9a7045"
      },
      "outputs": [
        {
          "output_type": "execute_result",
          "data": {
            "text/plain": [
              "array([ 1.,  2.,  0.,  1., -2.])"
            ]
          },
          "metadata": {},
          "execution_count": 50
        }
      ],
      "source": [
        "def antiderivative(coefs: np.array) -> np.array:\n",
        "    x = np.polyint (coefs, k = -2) #константа должна быть -2, чтобы такое получилось?..\n",
        "\n",
        "    return x\n",
        "\n",
        "coefs = np.array([4, 6, 0, 1])\n",
        "antiderivative (coefs)"
      ]
    },
    {
      "cell_type": "code",
      "execution_count": null,
      "id": "1c87df45-faf8-4bfd-b4ff-afa009513094",
      "metadata": {
        "pycharm": {
          "name": "#%%\n"
        },
        "id": "1c87df45-faf8-4bfd-b4ff-afa009513094"
      },
      "outputs": [],
      "source": [
        "coefs = np.array([4, 6, 0, 1])\n",
        "\n",
        "assert np.allclose(\n",
        "    antiderivative(coefs),\n",
        "    np.array([1., 2., 0., 1., 0.])\n",
        ")"
      ]
    },
    {
      "cell_type": "code",
      "execution_count": null,
      "id": "331c248c-aa2e-4c70-bca8-f1f92c4e4347",
      "metadata": {
        "pycharm": {
          "name": "#%%\n"
        },
        "id": "331c248c-aa2e-4c70-bca8-f1f92c4e4347"
      },
      "outputs": [],
      "source": [
        "coefs = np.array([1, 7, -12, 21, -6])\n",
        "\n",
        "assert np.allclose(\n",
        "    antiderivative(coefs),\n",
        "    np.array([ 0.2, 1.75, -4., 10.5, -6., 0.])\n",
        ")"
      ]
    },
    {
      "cell_type": "markdown",
      "id": "5a8e386f-3331-4f81-90ef-51db34368b69",
      "metadata": {
        "id": "5a8e386f-3331-4f81-90ef-51db34368b69"
      },
      "source": [
        "### Задание 8"
      ]
    },
    {
      "cell_type": "markdown",
      "id": "b6e80d03-917a-40ad-ae2a-60116c0a328d",
      "metadata": {
        "id": "b6e80d03-917a-40ad-ae2a-60116c0a328d"
      },
      "source": [
        "Напишите функцию, делающую данную [треугольную матрицу](https://ru.wikipedia.org/wiki/%D0%A2%D1%80%D0%B5%D1%83%D0%B3%D0%BE%D0%BB%D1%8C%D0%BD%D0%B0%D1%8F_%D0%BC%D0%B0%D1%82%D1%80%D0%B8%D1%86%D0%B0) симметричной. Например, если на вход поступает матрица\n",
        "$$\n",
        "\\begin{pmatrix}\n",
        "1 & 2 & 3 & 4\\\\\n",
        "0 & 5 & 6 & 7\\\\\n",
        "0 & 0 & 8 & 9\\\\\n",
        "0 & 0 & 0 & 10\\\\\n",
        "\\end{pmatrix},\n",
        "$$\n",
        "то на выходе должна быть матрица\n",
        "$$\n",
        "\\begin{pmatrix}\n",
        "1 & 2 & 3 & 4\\\\\n",
        "2 & 5 & 6 & 7\\\\\n",
        "3 & 6 & 8 & 9\\\\\n",
        "4 & 7 & 9 & 10\\\\\n",
        "\\end{pmatrix}.\n",
        "$$"
      ]
    },
    {
      "cell_type": "code",
      "execution_count": 63,
      "id": "dd8e40f3-2678-4d03-b7e4-7f32a336a952",
      "metadata": {
        "pycharm": {
          "name": "#%%\n"
        },
        "id": "dd8e40f3-2678-4d03-b7e4-7f32a336a952",
        "colab": {
          "base_uri": "https://localhost:8080/"
        },
        "outputId": "32fb2282-b752-4c0b-ae9c-3a164a350164"
      },
      "outputs": [
        {
          "output_type": "execute_result",
          "data": {
            "text/plain": [
              "array([[ 1,  2,  3,  4],\n",
              "       [ 2,  5,  6,  7],\n",
              "       [ 3,  6,  8,  9],\n",
              "       [ 4,  7,  9, 10]])"
            ]
          },
          "metadata": {},
          "execution_count": 63
        }
      ],
      "source": [
        "def make_symmetric(matrix: np.array) -> np.array:\n",
        "    c = np.flip (matrix, axis=1)\n",
        "    c = np.rot90 (c)\n",
        "    c = c | matrix\n",
        "    return c\n",
        "\n",
        "matrix = np.array([[1, 2, 3, 4], [0, 5, 6, 7], [0, 0, 8, 9], [0, 0, 0, 10]])\n",
        "make_symmetric (matrix)"
      ]
    },
    {
      "cell_type": "code",
      "execution_count": null,
      "id": "77efbb20-6be8-473d-9dd1-68195726b764",
      "metadata": {
        "pycharm": {
          "name": "#%%\n"
        },
        "id": "77efbb20-6be8-473d-9dd1-68195726b764"
      },
      "outputs": [],
      "source": [
        "matrix = np.array([[1, 2, 3, 4], [0, 5, 6, 7], [0, 0, 8, 9], [0, 0, 0, 10]])\n",
        "\n",
        "assert np.allclose(\n",
        "    make_symmetric(matrix),\n",
        "    np.array([[ 1,  2,  3,  4],\n",
        "              [ 2,  5,  6,  7],\n",
        "              [ 3,  6,  8,  9],\n",
        "              [ 4,  7,  9, 10]])\n",
        ")"
      ]
    },
    {
      "cell_type": "code",
      "execution_count": null,
      "id": "7913f6c4-ca69-4c6e-ab3f-c065ea6debaa",
      "metadata": {
        "pycharm": {
          "name": "#%%\n"
        },
        "id": "7913f6c4-ca69-4c6e-ab3f-c065ea6debaa"
      },
      "outputs": [],
      "source": [
        "matrix = np.array([[10, 21, 32, 49], [0, 53, 62, 78], [0, 0, 82, 92], [0, 0, 0, 10]])\n",
        "\n",
        "assert np.allclose(\n",
        "    make_symmetric(matrix),\n",
        "    np.array([[10, 21, 32, 49],\n",
        "              [21, 53, 62, 78],\n",
        "              [32, 62, 82, 92],\n",
        "              [49, 78, 92, 10]])\n",
        ")"
      ]
    },
    {
      "cell_type": "markdown",
      "id": "bc233469-729b-414d-ae0c-a7c2d437d98f",
      "metadata": {
        "id": "bc233469-729b-414d-ae0c-a7c2d437d98f"
      },
      "source": [
        "### Задание 9"
      ]
    },
    {
      "cell_type": "markdown",
      "id": "5fc87c15-51a2-4b42-9d3a-bf4c441bb94c",
      "metadata": {
        "id": "5fc87c15-51a2-4b42-9d3a-bf4c441bb94c"
      },
      "source": [
        "Напишите функцию, создающую прямоугольную матрицу из m одинаковых строк, заполненных последовательными натуральными числами от a до b включительно в возрастающем порядке. Например, если m = 5, a = 3, b = 10, то на выходе будет матрица\n",
        "$$\n",
        "\\begin{pmatrix}\n",
        "3 & 4 & 5 & 6 & 7 & 8 & 9 & 10\\\\\n",
        "3 & 4 & 5 & 6 & 7 & 8 & 9 & 10\\\\\n",
        "3 & 4 & 5 & 6 & 7 & 8 & 9 & 10\\\\\n",
        "3 & 4 & 5 & 6 & 7 & 8 & 9 & 10\\\\\n",
        "3 & 4 & 5 & 6 & 7 & 8 & 9 & 10\\\\\n",
        "\\end{pmatrix}\n",
        "$$"
      ]
    },
    {
      "cell_type": "code",
      "execution_count": null,
      "id": "828f41fe-e840-4ae4-8614-3930c4d44621",
      "metadata": {
        "pycharm": {
          "name": "#%%\n"
        },
        "id": "828f41fe-e840-4ae4-8614-3930c4d44621",
        "colab": {
          "base_uri": "https://localhost:8080/"
        },
        "outputId": "45f15345-e141-4af6-c885-7b1d715eae23"
      },
      "outputs": [
        {
          "output_type": "execute_result",
          "data": {
            "text/plain": [
              "array([[ 3,  4,  5,  6,  7,  8,  9, 10],\n",
              "       [ 3,  4,  5,  6,  7,  8,  9, 10],\n",
              "       [ 3,  4,  5,  6,  7,  8,  9, 10],\n",
              "       [ 3,  4,  5,  6,  7,  8,  9, 10],\n",
              "       [ 3,  4,  5,  6,  7,  8,  9, 10]])"
            ]
          },
          "metadata": {},
          "execution_count": 21
        }
      ],
      "source": [
        "def construct_matrix(m: int, a: int, b: int) -> np.array:\n",
        "    list_of = []\n",
        "    row = []\n",
        "\n",
        "    for y in range (0, m):\n",
        "      for i in range (a, b+1):\n",
        "        row.append (i)\n",
        "      list_of.append (row)\n",
        "      row = []\n",
        "    matrix = np.array (list_of)\n",
        "    return matrix\n",
        "\n",
        "m = 5\n",
        "a = 3\n",
        "b = 10\n",
        "\n",
        "construct_matrix (m, a, b)"
      ]
    },
    {
      "cell_type": "code",
      "execution_count": null,
      "id": "a916b35d-fd49-4011-a121-f2d88dd276cc",
      "metadata": {
        "pycharm": {
          "name": "#%%\n"
        },
        "id": "a916b35d-fd49-4011-a121-f2d88dd276cc"
      },
      "outputs": [],
      "source": [
        "m = 5\n",
        "a = 3\n",
        "b = 10\n",
        "\n",
        "assert np.allclose(\n",
        "    construct_matrix(m, a, b),\n",
        "    np.array([[ 3,  4,  5,  6,  7,  8,  9, 10],\n",
        "              [ 3,  4,  5,  6,  7,  8,  9, 10],\n",
        "              [ 3,  4,  5,  6,  7,  8,  9, 10],\n",
        "              [ 3,  4,  5,  6,  7,  8,  9, 10],\n",
        "              [ 3,  4,  5,  6,  7,  8,  9, 10]])\n",
        ")"
      ]
    },
    {
      "cell_type": "code",
      "execution_count": null,
      "id": "0757559d-9029-45f9-b202-d490f6116b24",
      "metadata": {
        "pycharm": {
          "name": "#%%\n"
        },
        "id": "0757559d-9029-45f9-b202-d490f6116b24"
      },
      "outputs": [],
      "source": [
        "m = 3\n",
        "a = 2\n",
        "b = 6\n",
        "\n",
        "assert np.allclose(\n",
        "    construct_matrix(m, a, b),\n",
        "    np.array([[2, 3, 4, 5, 6],\n",
        "              [2, 3, 4, 5, 6],\n",
        "              [2, 3, 4, 5, 6]])\n",
        ")"
      ]
    },
    {
      "cell_type": "markdown",
      "id": "6d1d7dac-4ff8-49ee-b1d9-385fc0d7757c",
      "metadata": {
        "id": "6d1d7dac-4ff8-49ee-b1d9-385fc0d7757c"
      },
      "source": [
        "### Задание 10"
      ]
    },
    {
      "cell_type": "markdown",
      "id": "e5897b5d-2db9-4192-bb5a-9280c21534fe",
      "metadata": {
        "id": "e5897b5d-2db9-4192-bb5a-9280c21534fe"
      },
      "source": [
        "Напишите функцию, вычисляющую [косинусную близость](https://en.wikipedia.org/wiki/Cosine_similarity) двух векторов. Например, если на вход поступают вектора `array([-2, 1, 0, -5, 4, 3, -3])` и `array([0, 2, -2, 10, 6, 0, 0])`, ответом будет -0.25."
      ]
    },
    {
      "cell_type": "code",
      "execution_count": null,
      "id": "db3f22c3-f2b1-4f02-9dd5-f3b7e67a5a59",
      "metadata": {
        "pycharm": {
          "name": "#%%\n"
        },
        "id": "db3f22c3-f2b1-4f02-9dd5-f3b7e67a5a59",
        "colab": {
          "base_uri": "https://localhost:8080/"
        },
        "outputId": "696af476-9b1b-49f6-d619-e70ac23c8ed7"
      },
      "outputs": [
        {
          "output_type": "execute_result",
          "data": {
            "text/plain": [
              "-0.25"
            ]
          },
          "metadata": {},
          "execution_count": 16
        }
      ],
      "source": [
        "from numpy import dot\n",
        "from numpy.linalg import norm\n",
        "\n",
        "def cosine_similarity(vec1: np.array, vec2: np.array) -> float:\n",
        "     x = dot(vec1, vec2)/(norm(vec1)*norm(vec2))\n",
        "     return x\n",
        "\n",
        "vec1 = np.array([-2, 1,  0, -5, 4, 3, -3])\n",
        "vec2 = np.array([ 0, 2, -2, 10, 6, 0,  0])\n",
        "cosine_similarity (vec1, vec2)"
      ]
    },
    {
      "cell_type": "code",
      "execution_count": null,
      "id": "c4fbb913-9a67-4f98-b4f4-e29309a0e25a",
      "metadata": {
        "pycharm": {
          "name": "#%%\n"
        },
        "id": "c4fbb913-9a67-4f98-b4f4-e29309a0e25a"
      },
      "outputs": [],
      "source": [
        "vec1 = np.array([-2, 1,  0, -5, 4, 3, -3])\n",
        "vec2 = np.array([ 0, 2, -2, 10, 6, 0,  0])\n",
        "\n",
        "assert np.allclose(cosine_similarity(vec1, vec2), -0.25)"
      ]
    },
    {
      "cell_type": "code",
      "execution_count": null,
      "id": "07c7a13b-4aad-4e20-9e97-1801921aeba3",
      "metadata": {
        "pycharm": {
          "name": "#%%\n"
        },
        "id": "07c7a13b-4aad-4e20-9e97-1801921aeba3"
      },
      "outputs": [],
      "source": [
        "vec1 = np.array([-4, 2,  9, -8, 9, 0, -2])\n",
        "vec2 = np.array([ 3, 2, -4, -1, 3, 2,  2])\n",
        "\n",
        "assert np.allclose(cosine_similarity(vec1, vec2), -0.119929)"
      ]
    }
  ],
  "metadata": {
    "kernelspec": {
      "display_name": "Python 3 (ipykernel)",
      "language": "python",
      "name": "python3"
    },
    "language_info": {
      "codemirror_mode": {
        "name": "ipython",
        "version": 3
      },
      "file_extension": ".py",
      "mimetype": "text/x-python",
      "name": "python",
      "nbconvert_exporter": "python",
      "pygments_lexer": "ipython3",
      "version": "3.9.12"
    },
    "colab": {
      "provenance": []
    }
  },
  "nbformat": 4,
  "nbformat_minor": 5
}